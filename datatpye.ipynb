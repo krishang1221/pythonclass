{
 "cells": [
  {
   "cell_type": "markdown",
   "id": "1d2b87d7-62c1-46bd-ad49-bb0ab419af81",
   "metadata": {},
   "source": [
    "data type"
   ]
  },
  {
   "cell_type": "code",
   "execution_count": 2,
   "id": "6022c4b9-316e-4123-adad-c415711a6870",
   "metadata": {},
   "outputs": [],
   "source": [
    "# data type class17/2/2025\n"
   ]
  },
  {
   "cell_type": "code",
   "execution_count": 4,
   "id": "428e53f7-2096-4cd2-b07d-27ce8829ce71",
   "metadata": {},
   "outputs": [
    {
     "name": "stdout",
     "output_type": "stream",
     "text": [
      "data type\n"
     ]
    }
   ],
   "source": [
    "print(\"data type\")"
   ]
  },
  {
   "cell_type": "code",
   "execution_count": 6,
   "id": "365d51ea-dfc8-450c-bbce-109771c92cd4",
   "metadata": {},
   "outputs": [
    {
     "ename": "SyntaxError",
     "evalue": "invalid syntax (3934463071.py, line 1)",
     "output_type": "error",
     "traceback": [
      "\u001b[1;36m  Cell \u001b[1;32mIn[6], line 1\u001b[1;36m\u001b[0m\n\u001b[1;33m    int a =44\u001b[0m\n\u001b[1;37m        ^\u001b[0m\n\u001b[1;31mSyntaxError\u001b[0m\u001b[1;31m:\u001b[0m invalid syntax\n"
     ]
    }
   ],
   "source": [
    "int a =44\n",
    "float b = 44.2\n",
    "float a+b "
   ]
  },
  {
   "cell_type": "code",
   "execution_count": 8,
   "id": "da0f3044-f694-4ebb-9d3a-5c2a109a83f4",
   "metadata": {},
   "outputs": [
    {
     "data": {
      "text/plain": [
       "1"
      ]
     },
     "execution_count": 8,
     "metadata": {},
     "output_type": "execute_result"
    }
   ],
   "source": [
    "int(1)"
   ]
  },
  {
   "cell_type": "code",
   "execution_count": 10,
   "id": "133855fd-11f8-4634-9c49-547ab66946aa",
   "metadata": {},
   "outputs": [
    {
     "data": {
      "text/plain": [
       "3.0"
      ]
     },
     "execution_count": 10,
     "metadata": {},
     "output_type": "execute_result"
    }
   ],
   "source": [
    "int (20.8)\n",
    "float(3)"
   ]
  },
  {
   "cell_type": "code",
   "execution_count": 12,
   "id": "ca804781-670f-4643-92a2-b37e6090582d",
   "metadata": {},
   "outputs": [
    {
     "data": {
      "text/plain": [
       "float"
      ]
     },
     "execution_count": 12,
     "metadata": {},
     "output_type": "execute_result"
    }
   ],
   "source": [
    "type(3.0)"
   ]
  },
  {
   "cell_type": "code",
   "execution_count": 14,
   "id": "55cc64da-5c92-48f8-8100-2ed64c50c309",
   "metadata": {},
   "outputs": [
    {
     "name": "stdout",
     "output_type": "stream",
     "text": [
      "120.0\n"
     ]
    },
    {
     "data": {
      "text/plain": [
       "float"
      ]
     },
     "execution_count": 14,
     "metadata": {},
     "output_type": "execute_result"
    }
   ],
   "source": [
    "a=int(50)\n",
    "b=float(70)\n",
    "c=a+b\n",
    "print(c)\n",
    "type (c)"
   ]
  },
  {
   "cell_type": "code",
   "execution_count": 16,
   "id": "168179e8-70e8-4e65-a59b-77beeabb8be6",
   "metadata": {},
   "outputs": [
    {
     "data": {
      "text/plain": [
       "'hello my dear friends.'"
      ]
     },
     "execution_count": 16,
     "metadata": {},
     "output_type": "execute_result"
    }
   ],
   "source": [
    "str(\"hello my dear friends.\")"
   ]
  },
  {
   "cell_type": "code",
   "execution_count": 22,
   "id": "6b2678dd-14ca-4ba4-8d8a-e52dc8521cf5",
   "metadata": {},
   "outputs": [
    {
     "data": {
      "text/plain": [
       "str"
      ]
     },
     "execution_count": 22,
     "metadata": {},
     "output_type": "execute_result"
    }
   ],
   "source": [
    "type('hello my dear friends.')"
   ]
  },
  {
   "cell_type": "code",
   "execution_count": 24,
   "id": "7642527d-b6d4-4a09-8eec-feb62741683d",
   "metadata": {},
   "outputs": [
    {
     "data": {
      "text/plain": [
       "96"
      ]
     },
     "execution_count": 24,
     "metadata": {},
     "output_type": "execute_result"
    }
   ],
   "source": [
    "a=56\n",
    "b=40\n",
    "c=a+b\n",
    "c\n",
    "\n"
   ]
  },
  {
   "cell_type": "code",
   "execution_count": 30,
   "id": "23526d10-ab3f-42ca-9a17-b53db5618105",
   "metadata": {},
   "outputs": [
    {
     "data": {
      "text/plain": [
       "True"
      ]
     },
     "execution_count": 30,
     "metadata": {},
     "output_type": "execute_result"
    }
   ],
   "source": [
    "bool(0.56)"
   ]
  },
  {
   "cell_type": "code",
   "execution_count": 32,
   "id": "7a55c8a6-2998-429b-bda7-352ad6c685e9",
   "metadata": {},
   "outputs": [
    {
     "ename": "SyntaxError",
     "evalue": "invalid decimal literal (3716277863.py, line 1)",
     "output_type": "error",
     "traceback": [
      "\u001b[1;36m  Cell \u001b[1;32mIn[32], line 1\u001b[1;36m\u001b[0m\n\u001b[1;33m    a=2w\u001b[0m\n\u001b[1;37m      ^\u001b[0m\n\u001b[1;31mSyntaxError\u001b[0m\u001b[1;31m:\u001b[0m invalid decimal literal\n"
     ]
    }
   ],
   "source": [
    "a=2w\n",
    "b=5g\n",
    "c=a+b\n",
    "print(c)\n",
    "type(c)\n"
   ]
  },
  {
   "cell_type": "code",
   "execution_count": 36,
   "id": "10ffc082-b54a-4ea8-9594-1edad82188d5",
   "metadata": {},
   "outputs": [
    {
     "data": {
      "text/plain": [
       "(3+0j)"
      ]
     },
     "execution_count": 36,
     "metadata": {},
     "output_type": "execute_result"
    }
   ],
   "source": [
    "complex(3)"
   ]
  },
  {
   "cell_type": "code",
   "execution_count": 38,
   "id": "564f98f6-3554-4467-8aea-90f3e289e1fb",
   "metadata": {},
   "outputs": [
    {
     "data": {
      "text/plain": [
       "complex"
      ]
     },
     "execution_count": 38,
     "metadata": {},
     "output_type": "execute_result"
    }
   ],
   "source": [
    "type(3+0j)"
   ]
  },
  {
   "cell_type": "code",
   "execution_count": 40,
   "id": "2eb30ee2-9aa8-4476-8702-d4405ec49766",
   "metadata": {},
   "outputs": [],
   "source": [
    "a = \"2w\""
   ]
  },
  {
   "cell_type": "code",
   "execution_count": 42,
   "id": "f5d8750c-5512-405f-b700-a63705fbcac1",
   "metadata": {},
   "outputs": [
    {
     "data": {
      "text/plain": [
       "'2w'"
      ]
     },
     "execution_count": 42,
     "metadata": {},
     "output_type": "execute_result"
    }
   ],
   "source": [
    "a"
   ]
  },
  {
   "cell_type": "code",
   "execution_count": 48,
   "id": "777c9030-fcbe-4e02-9f78-aca6cd4eb9e8",
   "metadata": {},
   "outputs": [],
   "source": [
    "a= \"2i+3j\"\n",
    "\n",
    "\n",
    "\n",
    "\n",
    "\n",
    "\n"
   ]
  },
  {
   "cell_type": "code",
   "execution_count": 50,
   "id": "830c5094-61b2-4366-95f6-09889d8fe751",
   "metadata": {},
   "outputs": [
    {
     "data": {
      "text/plain": [
       "'2i+3j'"
      ]
     },
     "execution_count": 50,
     "metadata": {},
     "output_type": "execute_result"
    }
   ],
   "source": [
    "a"
   ]
  },
  {
   "cell_type": "code",
   "execution_count": 52,
   "id": "8a3ac9e4-b84b-4af0-a170-d70b9a9a62dc",
   "metadata": {},
   "outputs": [
    {
     "data": {
      "text/plain": [
       "str"
      ]
     },
     "execution_count": 52,
     "metadata": {},
     "output_type": "execute_result"
    }
   ],
   "source": [
    "type(a)"
   ]
  },
  {
   "cell_type": "code",
   "execution_count": 58,
   "id": "00fe7b6f-517d-480b-9cf0-a1ff4aa47c33",
   "metadata": {},
   "outputs": [
    {
     "data": {
      "text/plain": [
       "(2+0j)"
      ]
     },
     "execution_count": 58,
     "metadata": {},
     "output_type": "execute_result"
    }
   ],
   "source": [
    "complex(2)"
   ]
  },
  {
   "cell_type": "code",
   "execution_count": 68,
   "id": "97256181-3a8f-4f6a-ac00-ab158015135f",
   "metadata": {},
   "outputs": [
    {
     "name": "stdout",
     "output_type": "stream",
     "text": [
      "(20.799999999999997+3j)\n"
     ]
    },
    {
     "data": {
      "text/plain": [
       "complex"
      ]
     },
     "execution_count": 68,
     "metadata": {},
     "output_type": "execute_result"
    }
   ],
   "source": [
    "a=4+3j\n",
    "b=(56.8)\n",
    "c=40\n",
    "d=a+b-c\n",
    "print(d)\n",
    "type(d)"
   ]
  },
  {
   "cell_type": "code",
   "execution_count": 78,
   "id": "af272391-ed40-4f97-ba4a-66db6bc388ca",
   "metadata": {},
   "outputs": [],
   "source": [
    "a = \"10\""
   ]
  },
  {
   "cell_type": "code",
   "execution_count": 80,
   "id": "959b0a0b-5120-46ae-ae2e-90dd4226070d",
   "metadata": {},
   "outputs": [
    {
     "data": {
      "text/plain": [
       "str"
      ]
     },
     "execution_count": 80,
     "metadata": {},
     "output_type": "execute_result"
    }
   ],
   "source": [
    "type(a)"
   ]
  },
  {
   "cell_type": "code",
   "execution_count": 83,
   "id": "d9a0694c-6806-4dd7-843a-9e625fdb408b",
   "metadata": {},
   "outputs": [
    {
     "data": {
      "text/plain": [
       "'10'"
      ]
     },
     "execution_count": 83,
     "metadata": {},
     "output_type": "execute_result"
    }
   ],
   "source": [
    "str(10)"
   ]
  },
  {
   "cell_type": "code",
   "execution_count": 85,
   "id": "1c5d6cfe-1aeb-4105-b2ef-f6c363b0000f",
   "metadata": {},
   "outputs": [],
   "source": [
    "a = list()\n",
    "\n",
    "\n",
    "\n",
    "\n"
   ]
  },
  {
   "cell_type": "code",
   "execution_count": 87,
   "id": "49e65605-2308-47b2-a6ff-26a701242f10",
   "metadata": {},
   "outputs": [
    {
     "data": {
      "text/plain": [
       "list"
      ]
     },
     "execution_count": 87,
     "metadata": {},
     "output_type": "execute_result"
    }
   ],
   "source": [
    "type(a)"
   ]
  },
  {
   "cell_type": "code",
   "execution_count": 89,
   "id": "70b577fb-0c24-4b22-8a9e-262c1986c5c2",
   "metadata": {},
   "outputs": [],
   "source": [
    "b = [1,2,3]"
   ]
  },
  {
   "cell_type": "code",
   "execution_count": 91,
   "id": "f5627720-a00c-4411-99ae-eff0bb202d11",
   "metadata": {},
   "outputs": [
    {
     "data": {
      "text/plain": [
       "[1, 2, 3]"
      ]
     },
     "execution_count": 91,
     "metadata": {},
     "output_type": "execute_result"
    }
   ],
   "source": [
    "b"
   ]
  },
  {
   "cell_type": "code",
   "execution_count": 93,
   "id": "e1302400-ad85-4616-9904-705bec491325",
   "metadata": {},
   "outputs": [
    {
     "data": {
      "text/plain": [
       "list"
      ]
     },
     "execution_count": 93,
     "metadata": {},
     "output_type": "execute_result"
    }
   ],
   "source": [
    "type(b)"
   ]
  },
  {
   "cell_type": "code",
   "execution_count": 95,
   "id": "0fade2ec-12ee-47e2-aee5-71a857354327",
   "metadata": {},
   "outputs": [],
   "source": [
    "a= list([1,2])"
   ]
  },
  {
   "cell_type": "code",
   "execution_count": 97,
   "id": "93760a35-3315-40eb-a8cb-7e1b18c85722",
   "metadata": {},
   "outputs": [
    {
     "data": {
      "text/plain": [
       "[1, 2]"
      ]
     },
     "execution_count": 97,
     "metadata": {},
     "output_type": "execute_result"
    }
   ],
   "source": [
    "a"
   ]
  },
  {
   "cell_type": "code",
   "execution_count": 99,
   "id": "19da5669-585b-492c-b58f-fb44f549b6d0",
   "metadata": {},
   "outputs": [],
   "source": [
    "c = tuple()"
   ]
  },
  {
   "cell_type": "code",
   "execution_count": 101,
   "id": "6069567d-09c7-47d7-9222-2f66305c5604",
   "metadata": {},
   "outputs": [
    {
     "data": {
      "text/plain": [
       "()"
      ]
     },
     "execution_count": 101,
     "metadata": {},
     "output_type": "execute_result"
    }
   ],
   "source": [
    "c"
   ]
  },
  {
   "cell_type": "code",
   "execution_count": 103,
   "id": "b03badb3-87a2-44a1-87e1-81b0bcc7164a",
   "metadata": {},
   "outputs": [
    {
     "data": {
      "text/plain": [
       "tuple"
      ]
     },
     "execution_count": 103,
     "metadata": {},
     "output_type": "execute_result"
    }
   ],
   "source": [
    "type(c)"
   ]
  },
  {
   "cell_type": "code",
   "execution_count": 105,
   "id": "f8964650-947a-46fd-92be-e974095fa3d2",
   "metadata": {},
   "outputs": [],
   "source": [
    "c = (1,2,3)"
   ]
  },
  {
   "cell_type": "code",
   "execution_count": 107,
   "id": "a84e9c59-d83e-4e11-b79a-7a098e32aedc",
   "metadata": {},
   "outputs": [
    {
     "data": {
      "text/plain": [
       "(1, 2, 3)"
      ]
     },
     "execution_count": 107,
     "metadata": {},
     "output_type": "execute_result"
    }
   ],
   "source": [
    "c"
   ]
  },
  {
   "cell_type": "code",
   "execution_count": 109,
   "id": "b2a9a824-9a9b-44b2-a542-fd90b4e7da65",
   "metadata": {},
   "outputs": [],
   "source": [
    "s = set()"
   ]
  },
  {
   "cell_type": "code",
   "execution_count": 111,
   "id": "27689364-6ee1-4ea3-872a-5acb7c171099",
   "metadata": {},
   "outputs": [
    {
     "data": {
      "text/plain": [
       "set"
      ]
     },
     "execution_count": 111,
     "metadata": {},
     "output_type": "execute_result"
    }
   ],
   "source": [
    "type(s)"
   ]
  },
  {
   "cell_type": "code",
   "execution_count": 113,
   "id": "3a0dc142-28d6-473a-a9ad-f68cfd586add",
   "metadata": {},
   "outputs": [],
   "source": [
    "s = {1,2}"
   ]
  },
  {
   "cell_type": "code",
   "execution_count": 115,
   "id": "76d76c5e-78c1-4e1e-afdb-58ebef8d0782",
   "metadata": {},
   "outputs": [
    {
     "data": {
      "text/plain": [
       "{1, 2}"
      ]
     },
     "execution_count": 115,
     "metadata": {},
     "output_type": "execute_result"
    }
   ],
   "source": [
    "s"
   ]
  },
  {
   "cell_type": "code",
   "execution_count": 119,
   "id": "6f9da7b5-a24a-4089-87a9-2de9b8c3c05a",
   "metadata": {},
   "outputs": [],
   "source": [
    "d = dict()"
   ]
  },
  {
   "cell_type": "code",
   "execution_count": 121,
   "id": "35f8e709-89df-43cc-a29c-9050ae6ae258",
   "metadata": {},
   "outputs": [
    {
     "data": {
      "text/plain": [
       "{}"
      ]
     },
     "execution_count": 121,
     "metadata": {},
     "output_type": "execute_result"
    }
   ],
   "source": [
    "d"
   ]
  },
  {
   "cell_type": "code",
   "execution_count": 123,
   "id": "a9835394-ba05-4cfb-bcc3-2e324c9a3b28",
   "metadata": {},
   "outputs": [],
   "source": [
    "dict = {'name':\"arun\",\"claa\":10}"
   ]
  },
  {
   "cell_type": "code",
   "execution_count": 125,
   "id": "f3319dd0-09d4-48e6-8159-cd6b5f247f98",
   "metadata": {},
   "outputs": [
    {
     "data": {
      "text/plain": [
       "{'name': 'arun', 'claa': 10}"
      ]
     },
     "execution_count": 125,
     "metadata": {},
     "output_type": "execute_result"
    }
   ],
   "source": [
    "dict"
   ]
  },
  {
   "cell_type": "code",
   "execution_count": 129,
   "id": "496d1340-ca9e-4171-8a8f-dcca0f852f11",
   "metadata": {},
   "outputs": [],
   "source": [
    "tup = (1,2.5,\"st\")"
   ]
  },
  {
   "cell_type": "code",
   "execution_count": 131,
   "id": "64e273c6-ac28-4590-90b5-493c4f57ddd1",
   "metadata": {},
   "outputs": [
    {
     "data": {
      "text/plain": [
       "(1, 2.5, 'st')"
      ]
     },
     "execution_count": 131,
     "metadata": {},
     "output_type": "execute_result"
    }
   ],
   "source": [
    "tup"
   ]
  },
  {
   "cell_type": "code",
   "execution_count": 133,
   "id": "0c449ab9-52dc-425d-a103-86fea5c2bbd7",
   "metadata": {},
   "outputs": [
    {
     "data": {
      "text/plain": [
       "1"
      ]
     },
     "execution_count": 133,
     "metadata": {},
     "output_type": "execute_result"
    }
   ],
   "source": [
    "int(1)"
   ]
  },
  {
   "cell_type": "code",
   "execution_count": null,
   "id": "cedfc026-bbc0-4577-9483-8d9f68023f03",
   "metadata": {},
   "outputs": [],
   "source": []
  }
 ],
 "metadata": {
  "kernelspec": {
   "display_name": "Python [conda env:base] *",
   "language": "python",
   "name": "conda-base-py"
  },
  "language_info": {
   "codemirror_mode": {
    "name": "ipython",
    "version": 3
   },
   "file_extension": ".py",
   "mimetype": "text/x-python",
   "name": "python",
   "nbconvert_exporter": "python",
   "pygments_lexer": "ipython3",
   "version": "3.12.7"
  }
 },
 "nbformat": 4,
 "nbformat_minor": 5
}
