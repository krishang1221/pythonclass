{
 "cells": [
  {
   "cell_type": "markdown",
   "id": "14f4fce3-c90e-4acf-bc01-ed76ee791e27",
   "metadata": {},
   "source": [
    "for loop"
   ]
  },
  {
   "cell_type": "code",
   "execution_count": null,
   "id": "50ecb1a6-4bcc-44ab-8e22-83dad2b624bf",
   "metadata": {},
   "outputs": [],
   "source": [
    "a=(1,2,3,4,5,6,7,8,9)\n",
    "for i in a:\n",
    "    if i % 2==0:\n",
    "        print(i)\n",
    "        \n",
    "    \n",
    "    \n",
    "\n",
    "\n"
   ]
  },
  {
   "cell_type": "code",
   "execution_count": null,
   "id": "cd869f5e-0a95-4e72-812e-c19cb0a0bed9",
   "metadata": {},
   "outputs": [],
   "source": [
    "for i in range(5):\n",
    "    print(i)\n"
   ]
  },
  {
   "cell_type": "code",
   "execution_count": null,
   "id": "b7a9e593-4e9f-4b21-84f2-728e4b53058d",
   "metadata": {},
   "outputs": [],
   "source": [
    "for i in range(0,20,2):\n",
    "    \n",
    "    \n",
    "    print(i)\n",
    "    \n"
   ]
  },
  {
   "cell_type": "code",
   "execution_count": null,
   "id": "398df1e6-80ed-475f-af34-0451559e05b2",
   "metadata": {},
   "outputs": [],
   "source": [
    "for i in range(0,30):\n",
    "    print(i)\n",
    "    "
   ]
  },
  {
   "cell_type": "markdown",
   "id": "439cb44a-9f3b-41c1-a45e-8f84f9f7fc85",
   "metadata": {},
   "source": [
    "while loop\n",
    "while conditon code\n"
   ]
  },
  {
   "cell_type": "code",
   "execution_count": null,
   "id": "908468c0-5790-497e-ac16-4603142ec370",
   "metadata": {},
   "outputs": [],
   "source": [
    "i= 1 #initilize\n",
    "    while i < 10:\n",
    "    print(i)\n",
    "    i += 2\n",
    "        \n",
    "    \n",
    "    #increment\n",
    "    \n",
    "    \n",
    "    \n",
    "    \n",
    "    \n",
    "    "
   ]
  },
  {
   "cell_type": "code",
   "execution_count": null,
   "id": "db12455f-3c67-4db2-917c-cafa84863232",
   "metadata": {},
   "outputs": [],
   "source": [
    "\n",
    "    \n",
    "    \n",
    "    \n",
    "    \n",
    "    "
   ]
  },
  {
   "cell_type": "code",
   "execution_count": null,
   "id": "7acf400f-6565-4820-95da-31832baeb60f",
   "metadata": {},
   "outputs": [],
   "source": [
    "i = 2\n",
    "while i < 20:\n",
    "    print(i)\n",
    "    i += 1\n",
    "    "
   ]
  },
  {
   "cell_type": "code",
   "execution_count": 1,
   "id": "d209164e-5d0c-4429-b947-a686371efde9",
   "metadata": {},
   "outputs": [
    {
     "name": "stdout",
     "output_type": "stream",
     "text": [
      "2\n",
      "3\n",
      "4\n",
      "5\n",
      "6\n",
      "7\n",
      "8\n",
      "9\n",
      "10\n",
      "11\n",
      "12\n",
      "13\n",
      "14\n",
      "15\n",
      "16\n",
      "17\n",
      "18\n",
      "19\n"
     ]
    }
   ],
   "source": [
    "i = 2\n",
    "while i < 20:\n",
    "    print(i)\n",
    "    i += 1\n",
    "    \n",
    "\n",
    "\n"
   ]
  },
  {
   "cell_type": "markdown",
   "id": "4c4fc986-fd89-43b5-94e8-5fafd11f6e5f",
   "metadata": {},
   "source": [
    "nested loops(loops use inside the loops\n"
   ]
  },
  {
   "cell_type": "code",
   "execution_count": 6,
   "id": "e5d693a1-d0b4-4592-b1d6-7101b8960742",
   "metadata": {},
   "outputs": [
    {
     "name": "stdin",
     "output_type": "stream",
     "text": [
      "pls enter your no 6\n"
     ]
    },
    {
     "name": "stdout",
     "output_type": "stream",
     "text": [
      "6\n"
     ]
    }
   ],
   "source": [
    "a=int(input(\"pls enter your no\"))\n",
    "print(a)\n",
    "\n"
   ]
  },
  {
   "cell_type": "code",
   "execution_count": 34,
   "id": "81b08ef6-d500-4c76-8fb3-7c082f131fa0",
   "metadata": {},
   "outputs": [
    {
     "name": "stdout",
     "output_type": "stream",
     "text": [
      "2 10\n",
      "2 9\n",
      "2 8\n",
      "2 7\n",
      "2 6\n",
      "2 5\n",
      "2 4\n",
      "2 3\n",
      "2 2\n",
      "3 10\n",
      "3 9\n",
      "3 8\n",
      "3 7\n",
      "3 6\n",
      "3 5\n",
      "3 4\n",
      "3 3\n",
      "3 2\n",
      "4 10\n",
      "4 9\n",
      "4 8\n",
      "4 7\n",
      "4 6\n",
      "4 5\n",
      "4 4\n",
      "4 3\n",
      "4 2\n"
     ]
    }
   ],
   "source": [
    "for i in range(2,5):\n",
    "    for j in range(10,1,-1):\n",
    "        \n",
    "        print(i,j)\n",
    "        \n",
    "        \n",
    "        \n",
    "\n",
    "    \n",
    "    \n",
    "\n",
    "\n"
   ]
  },
  {
   "cell_type": "code",
   "execution_count": null,
   "id": "a57598a4-426d-47d8-8998-628f830db236",
   "metadata": {},
   "outputs": [],
   "source": []
  }
 ],
 "metadata": {
  "kernelspec": {
   "display_name": "Python [conda env:base] *",
   "language": "python",
   "name": "conda-base-py"
  },
  "language_info": {
   "codemirror_mode": {
    "name": "ipython",
    "version": 3
   },
   "file_extension": ".py",
   "mimetype": "text/x-python",
   "name": "python",
   "nbconvert_exporter": "python",
   "pygments_lexer": "ipython3",
   "version": "3.12.7"
  }
 },
 "nbformat": 4,
 "nbformat_minor": 5
}
