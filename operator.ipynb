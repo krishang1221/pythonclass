{
 "cells": [
  {
   "cell_type": "markdown",
   "id": "57c75229-e856-49a7-9b01-ee5a70caccda",
   "metadata": {},
   "source": [
    "operator\n"
   ]
  },
  {
   "cell_type": "code",
   "execution_count": 49,
   "id": "8769778d-7232-4625-88e4-46a46531c6a6",
   "metadata": {},
   "outputs": [
    {
     "name": "stdout",
     "output_type": "stream",
     "text": [
      "22\n",
      "-2\n",
      "120\n",
      "0.8333333333333334\n",
      "10\n",
      "1000000000000\n",
      "0\n"
     ]
    }
   ],
   "source": [
    "a=10\n",
    "b=12\n",
    "print(a+b),\n",
    "\n",
    "print(a-b)\n",
    "print(a*b)\n",
    "print(a/b)\n",
    "print(a%b)\n",
    "print(a**b)\n",
    "\n",
    "\n",
    "print(a//b)\n",
    "\n",
    "\n",
    "\n",
    "\n"
   ]
  },
  {
   "cell_type": "code",
   "execution_count": 16,
   "id": "59d6d274-fc74-4b2a-947a-0b2311641ec2",
   "metadata": {},
   "outputs": [
    {
     "data": {
      "text/plain": [
       "8"
      ]
     },
     "execution_count": 16,
     "metadata": {},
     "output_type": "execute_result"
    }
   ],
   "source": [
    "a = 2\n",
    "b = 3\n",
    "a**b"
   ]
  },
  {
   "cell_type": "code",
   "execution_count": 30,
   "id": "356b136a-c3cf-4e45-a92f-74ead0cb8809",
   "metadata": {},
   "outputs": [
    {
     "data": {
      "text/plain": [
       "8"
      ]
     },
     "execution_count": 30,
     "metadata": {},
     "output_type": "execute_result"
    }
   ],
   "source": [
    "a=2\n",
    "b=3\n",
    "a**b\n"
   ]
  },
  {
   "cell_type": "markdown",
   "id": "3a7eb183-2712-4d20-acb3-612b48eec940",
   "metadata": {},
   "source": [
    "#comparison operator\n",
    "Comparison: ==, !=, >, <, >=, <=\n",
    "\n"
   ]
  },
  {
   "cell_type": "code",
   "execution_count": 33,
   "id": "2e0bb581-e646-48a4-af4f-b9d3ec2c29d1",
   "metadata": {},
   "outputs": [
    {
     "name": "stdout",
     "output_type": "stream",
     "text": [
      "True\n"
     ]
    }
   ],
   "source": [
    "a=10\n",
    "b=20\n",
    "print(a<b)\n",
    "\n"
   ]
  },
  {
   "cell_type": "code",
   "execution_count": 35,
   "id": "7812098d-4dc4-4126-b591-eecd6081d14f",
   "metadata": {},
   "outputs": [
    {
     "name": "stdout",
     "output_type": "stream",
     "text": [
      "False\n"
     ]
    }
   ],
   "source": [
    "print(a>b)# a is greater then b ,but condition is b greater then a that's why this is false\n"
   ]
  },
  {
   "cell_type": "code",
   "execution_count": 37,
   "id": "e3e10d25-d64f-441f-b2cd-5fd227a9663a",
   "metadata": {},
   "outputs": [
    {
     "name": "stdout",
     "output_type": "stream",
     "text": [
      "False\n"
     ]
    }
   ],
   "source": [
    "print(a==b) #answer is false because condition is not match.\n"
   ]
  },
  {
   "cell_type": "code",
   "execution_count": 41,
   "id": "1bf2c4c4-b61b-41fa-8338-fd19541ff8ed",
   "metadata": {},
   "outputs": [
    {
     "name": "stdout",
     "output_type": "stream",
     "text": [
      "True\n"
     ]
    }
   ],
   "source": [
    "print(a!=b)# answer is true because condition is match.\n",
    "\n",
    "\n"
   ]
  },
  {
   "cell_type": "code",
   "execution_count": 43,
   "id": "e8b2b4ca-a32e-4473-a430-9298b57ef2b3",
   "metadata": {},
   "outputs": [
    {
     "name": "stdout",
     "output_type": "stream",
     "text": [
      "False\n"
     ]
    }
   ],
   "source": [
    "print(a>=b) #answer is 'false' because condition is not match.\n"
   ]
  },
  {
   "cell_type": "code",
   "execution_count": 47,
   "id": "8be49399-6572-4052-be42-b9e3bb97c6f6",
   "metadata": {},
   "outputs": [
    {
     "name": "stdout",
     "output_type": "stream",
     "text": [
      "True\n"
     ]
    }
   ],
   "source": [
    "print(a<=b)# answer is true because condition is match.\n",
    " \n",
    "\n",
    "      "
   ]
  },
  {
   "cell_type": "code",
   "execution_count": 79,
   "id": "4861a29b-1c2f-4937-86b3-dd12d16fa348",
   "metadata": {},
   "outputs": [
    {
     "name": "stdout",
     "output_type": "stream",
     "text": [
      "True\n"
     ]
    }
   ],
   "source": [
    "a=10\n",
    "d=10\n",
    "print(a==d)"
   ]
  },
  {
   "cell_type": "markdown",
   "id": "143981b9-8b54-4028-9ee1-6ea1fb134422",
   "metadata": {},
   "source": [
    "logical operators\n"
   ]
  },
  {
   "cell_type": "code",
   "execution_count": 82,
   "id": "dbe7fc7d-9144-421d-afa9-00fcbf9f7ecd",
   "metadata": {},
   "outputs": [],
   "source": [
    "#logical operators  AND:OR:NOT\n",
    "\n"
   ]
  },
  {
   "cell_type": "code",
   "execution_count": 84,
   "id": "e384e31e-c12d-4c96-baf9-ef6225159818",
   "metadata": {},
   "outputs": [],
   "source": [
    "M=20\n",
    "N=30\n",
    "O=20\n"
   ]
  },
  {
   "cell_type": "code",
   "execution_count": 88,
   "id": "4ae58f1b-392e-4952-8d8e-736a7a68ff02",
   "metadata": {},
   "outputs": [
    {
     "name": "stdout",
     "output_type": "stream",
     "text": [
      "30\n"
     ]
    }
   ],
   "source": [
    "print(M and N)\n",
    "\n"
   ]
  },
  {
   "cell_type": "code",
   "execution_count": 96,
   "id": "7a9b9268-a01d-4f08-bc0c-3494cff5df29",
   "metadata": {},
   "outputs": [],
   "source": [
    "x = True\n",
    "y = False\n",
    "\n",
    "\n",
    "\n"
   ]
  },
  {
   "cell_type": "code",
   "execution_count": 98,
   "id": "8f2d4803-1cf8-4c62-850d-8d197085183c",
   "metadata": {},
   "outputs": [
    {
     "name": "stdout",
     "output_type": "stream",
     "text": [
      "False\n"
     ]
    }
   ],
   "source": [
    "print(x and y)\n"
   ]
  },
  {
   "cell_type": "code",
   "execution_count": 100,
   "id": "d2537e4f-8e62-4168-80f7-b843c8f3fd98",
   "metadata": {},
   "outputs": [
    {
     "name": "stdout",
     "output_type": "stream",
     "text": [
      "True\n"
     ]
    }
   ],
   "source": [
    "print(x or y)\n"
   ]
  },
  {
   "cell_type": "code",
   "execution_count": 106,
   "id": "73c92e82-7e10-4c09-b0cc-02fe2118bf0f",
   "metadata": {},
   "outputs": [
    {
     "name": "stdout",
     "output_type": "stream",
     "text": [
      "False\n",
      "True\n"
     ]
    }
   ],
   "source": [
    "print(not x)\n",
    "\n",
    "print(not y)\n",
    "      \n"
   ]
  },
  {
   "cell_type": "code",
   "execution_count": 108,
   "id": "96485542-a5f5-43e6-8dc9-1c64173f084f",
   "metadata": {},
   "outputs": [
    {
     "name": "stdout",
     "output_type": "stream",
     "text": [
      "True\n"
     ]
    }
   ],
   "source": [
    "print(M==O or M==N)\n"
   ]
  },
  {
   "cell_type": "code",
   "execution_count": 112,
   "id": "aef981ca-b250-4603-b05f-3a4f8bd01661",
   "metadata": {},
   "outputs": [
    {
     "name": "stdout",
     "output_type": "stream",
     "text": [
      "False\n"
     ]
    }
   ],
   "source": [
    "print(M==O and M==N)\n",
    "\n"
   ]
  },
  {
   "cell_type": "raw",
   "id": "e124da54-9dcd-4250-ba26-77adc12763ea",
   "metadata": {},
   "source": [
    "\n"
   ]
  },
  {
   "cell_type": "code",
   "execution_count": 118,
   "id": "899ccf0e-ba96-49b5-8fb1-8be8062523f0",
   "metadata": {},
   "outputs": [
    {
     "name": "stdout",
     "output_type": "stream",
     "text": [
      "False\n",
      "True\n"
     ]
    }
   ],
   "source": [
    "print( not M==O)\n",
    "\n",
    "print(not N==M)\n",
    "\n"
   ]
  },
  {
   "cell_type": "markdown",
   "id": "ef1870bb-e9de-4090-a021-78dbf872ad88",
   "metadata": {},
   "source": [
    "Assignment operator\n"
   ]
  },
  {
   "cell_type": "code",
   "execution_count": 121,
   "id": "86c06cd8-5459-445b-87ef-b71ca8be1cd8",
   "metadata": {},
   "outputs": [],
   "source": [
    "#Assignment: =, +=, -=, *=, /=, %=, **=, //=\n"
   ]
  },
  {
   "cell_type": "code",
   "execution_count": 123,
   "id": "7de49adc-2af8-4fbf-8e20-472fbd11004c",
   "metadata": {},
   "outputs": [],
   "source": [
    "a=10\n",
    "a+=10    #a+3\n"
   ]
  },
  {
   "cell_type": "code",
   "execution_count": 125,
   "id": "318dbae3-b654-426f-95c5-de9cb6d5537e",
   "metadata": {},
   "outputs": [
    {
     "data": {
      "text/plain": [
       "20"
      ]
     },
     "execution_count": 125,
     "metadata": {},
     "output_type": "execute_result"
    }
   ],
   "source": [
    "a\n"
   ]
  },
  {
   "cell_type": "code",
   "execution_count": 135,
   "id": "63b48b73-953c-4706-b52e-c93010a66b91",
   "metadata": {},
   "outputs": [],
   "source": [
    "a=10+10+a\n",
    "\n"
   ]
  },
  {
   "cell_type": "code",
   "execution_count": 137,
   "id": "fdf53fd4-c79c-423a-a14f-8927c7f3f717",
   "metadata": {},
   "outputs": [
    {
     "name": "stdout",
     "output_type": "stream",
     "text": [
      "0\n"
     ]
    }
   ],
   "source": [
    "a-=10\n",
    "print(a)"
   ]
  },
  {
   "cell_type": "code",
   "execution_count": 145,
   "id": "2a6651ca-357a-436b-aa52-dcb4ad0737d6",
   "metadata": {},
   "outputs": [
    {
     "name": "stdout",
     "output_type": "stream",
     "text": [
      "0.0\n"
     ]
    }
   ],
   "source": [
    "a/=10\n",
    "print(a)\n",
    "\n"
   ]
  },
  {
   "cell_type": "code",
   "execution_count": 149,
   "id": "e25bd60f-df75-45df-86e9-81f6086d8cab",
   "metadata": {},
   "outputs": [
    {
     "name": "stdout",
     "output_type": "stream",
     "text": [
      "0.0\n"
     ]
    }
   ],
   "source": [
    "a*=10\n",
    "print(a)\n",
    "\n"
   ]
  },
  {
   "cell_type": "code",
   "execution_count": null,
   "id": "17313a81-9bc2-4895-b2c5-acd829297486",
   "metadata": {},
   "outputs": [],
   "source": []
  }
 ],
 "metadata": {
  "kernelspec": {
   "display_name": "Python [conda env:base] *",
   "language": "python",
   "name": "conda-base-py"
  },
  "language_info": {
   "codemirror_mode": {
    "name": "ipython",
    "version": 3
   },
   "file_extension": ".py",
   "mimetype": "text/x-python",
   "name": "python",
   "nbconvert_exporter": "python",
   "pygments_lexer": "ipython3",
   "version": "3.12.7"
  }
 },
 "nbformat": 4,
 "nbformat_minor": 5
}
