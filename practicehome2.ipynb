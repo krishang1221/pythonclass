{
 "cells": [
  {
   "cell_type": "markdown",
   "id": "1fb88cf4-808c-4adc-805b-26fa9ac7a001",
   "metadata": {},
   "source": [
    "# practice\n"
   ]
  },
  {
   "cell_type": "code",
   "execution_count": 9,
   "id": "9b72767b-0cb3-4ea5-a4c1-fb5b665d1132",
   "metadata": {},
   "outputs": [
    {
     "name": "stdout",
     "output_type": "stream",
     "text": [
      "hello,world\n"
     ]
    }
   ],
   "source": [
    "print(\"hello,world\")\n"
   ]
  },
  {
   "cell_type": "raw",
   "id": "bb5e45e0-ccc9-440d-babf-ae9ec1f767f1",
   "metadata": {},
   "source": []
  },
  {
   "cell_type": "code",
   "execution_count": 17,
   "id": "8e5af4e4-144e-4166-9abc-92653b439e90",
   "metadata": {},
   "outputs": [
    {
     "name": "stdout",
     "output_type": "stream",
     "text": [
      "A GREEN DOG JUMP OVER THE WHITE CAT\n"
     ]
    }
   ],
   "source": [
    "print(\"a green dog jump over the white cat\".upper())"
   ]
  },
  {
   "cell_type": "code",
   "execution_count": 23,
   "id": "8b0e4011-12b9-4125-91fd-4ed7249a05b1",
   "metadata": {},
   "outputs": [
    {
     "name": "stdout",
     "output_type": "stream",
     "text": [
      "a green dog jump over the white cat\n"
     ]
    }
   ],
   "source": [
    "print(\"a green dog jump over the white CAT\".lower())"
   ]
  },
  {
   "cell_type": "code",
   "execution_count": 54,
   "id": "75f70a02-f165-4d84-905d-9e97886a6f88",
   "metadata": {},
   "outputs": [
    {
     "name": "stdout",
     "output_type": "stream",
     "text": [
      "Green dog jump over the white cat\n"
     ]
    }
   ],
   "source": [
    "print(\"green dog jump over the white cat\".capitalize())"
   ]
  },
  {
   "cell_type": "code",
   "execution_count": 62,
   "id": "ee01ce8f-0440-4034-9c8f-0a69331222d8",
   "metadata": {},
   "outputs": [
    {
     "name": "stdout",
     "output_type": "stream",
     "text": [
      "a green dog jump over the white cat\n"
     ]
    }
   ],
   "source": [
    "print(\"a Green dOg Jump over the white cat\".casefold())"
   ]
  },
  {
   "cell_type": "code",
   "execution_count": 70,
   "id": "d2752c4d-6d5a-49cb-b368-41c073968418",
   "metadata": {},
   "outputs": [
    {
     "name": "stdout",
     "output_type": "stream",
     "text": [
      "12\n"
     ]
    }
   ],
   "source": [
    "print(\"a green dog jump over the white cat\".find('j'))"
   ]
  },
  {
   "cell_type": "code",
   "execution_count": 82,
   "id": "263bd850-5268-4841-86b5-75305f91fe3e",
   "metadata": {},
   "outputs": [
    {
     "name": "stdout",
     "output_type": "stream",
     "text": [
      "2\n"
     ]
    }
   ],
   "source": [
    "print(\"a green dog jump over the white cat\".count('a'))"
   ]
  },
  {
   "cell_type": "code",
   "execution_count": 94,
   "id": "a96c1e15-4b39-4136-ac1c-f873f38adec2",
   "metadata": {},
   "outputs": [
    {
     "name": "stdout",
     "output_type": "stream",
     "text": [
      "<built-in method center of str object at 0x000001506E392560>\n"
     ]
    }
   ],
   "source": [
    "print(\"a green dog jump over the white cat\".center)"
   ]
  },
  {
   "cell_type": "code",
   "execution_count": 102,
   "id": "4de6aa11-cb64-440a-8bf0-3b4372b6fe06",
   "metadata": {},
   "outputs": [
    {
     "name": "stdout",
     "output_type": "stream",
     "text": [
      "False\n"
     ]
    }
   ],
   "source": [
    "print(\"a green dog jump over the white cat\".endswith('Ehite'))"
   ]
  },
  {
   "cell_type": "code",
   "execution_count": 571,
   "id": "2d8fbd16-e225-487c-b1ac-babbf75c5caf",
   "metadata": {},
   "outputs": [
    {
     "name": "stdout",
     "output_type": "stream",
     "text": [
      "a green dog jump over the white cat.\n"
     ]
    }
   ],
   "source": [
    "print(\"a green dog jump over the white cat.\")"
   ]
  },
  {
   "cell_type": "code",
   "execution_count": 136,
   "id": "660c8958-c588-45fc-9a94-a0ef5cb28b1e",
   "metadata": {},
   "outputs": [
    {
     "data": {
      "text/plain": [
       "['h', 'e', 'l', 'l', 'o']"
      ]
     },
     "execution_count": 136,
     "metadata": {},
     "output_type": "execute_result"
    }
   ],
   "source": [
    "list(\"hello\")"
   ]
  },
  {
   "cell_type": "code",
   "execution_count": 144,
   "id": "43eac44f-e026-45a0-95f7-1e80a146d576",
   "metadata": {},
   "outputs": [
    {
     "data": {
      "text/plain": [
       "('h', 'e', 'l', '\\n', 'l', 'o')"
      ]
     },
     "execution_count": 144,
     "metadata": {},
     "output_type": "execute_result"
    }
   ],
   "source": [
    "tuple('hello')"
   ]
  },
  {
   "cell_type": "code",
   "execution_count": 156,
   "id": "6e727300-7df8-4ba0-b862-40a30dea36d8",
   "metadata": {},
   "outputs": [
    {
     "name": "stdout",
     "output_type": "stream",
     "text": [
      "hello\n"
     ]
    }
   ],
   "source": [
    "print(str('hello'))"
   ]
  },
  {
   "cell_type": "code",
   "execution_count": 160,
   "id": "c8401abd-ce5c-4ec6-a111-3ed486c23f34",
   "metadata": {},
   "outputs": [
    {
     "name": "stdout",
     "output_type": "stream",
     "text": [
      "43\n"
     ]
    }
   ],
   "source": [
    "print(int('43'))"
   ]
  },
  {
   "cell_type": "code",
   "execution_count": 178,
   "id": "4795dc7e-b28e-4327-92e1-0106492c0239",
   "metadata": {},
   "outputs": [
    {
     "name": "stdin",
     "output_type": "stream",
     "text": [
      "enter your first name krishan\n",
      "enter your last_name gopal\n"
     ]
    },
    {
     "name": "stdout",
     "output_type": "stream",
     "text": [
      "krishan gopal\n"
     ]
    }
   ],
   "source": [
    "A1=input(\"enter your first name\")\n",
    "A2=input(\"enter your last_name\")\n",
    "print(A1+\" \"+A2)"
   ]
  },
  {
   "cell_type": "code",
   "execution_count": 300,
   "id": "f08a1658-3360-45e7-82af-8f162414d3b6",
   "metadata": {},
   "outputs": [
    {
     "name": "stdout",
     "output_type": "stream",
     "text": [
      "your total letter no of name is:\n"
     ]
    }
   ],
   "source": [
    "print(\"your total letter no of name is:\")"
   ]
  },
  {
   "cell_type": "code",
   "execution_count": 282,
   "id": "cb3f7476-c790-4f0c-b579-3fde3e46492d",
   "metadata": {},
   "outputs": [
    {
     "name": "stdin",
     "output_type": "stream",
     "text": [
      "enter your gmail-id: naagarkg@gmail.com\n"
     ]
    },
    {
     "name": "stdout",
     "output_type": "stream",
     "text": [
      "your gmail-id is: NAAGARKG@GMAIL.COM\n",
      "your gmail-id is: 19\n"
     ]
    }
   ],
   "source": [
    "a1=input(\"enter your gmail-id:\")\n",
    "\n",
    "print(\"your gmail-id is:\",(a1).upper())\n",
    "print(\"your gmail-id is:\",(a1).count(''))"
   ]
  },
  {
   "cell_type": "code",
   "execution_count": 519,
   "id": "0b7aca04-ff6b-4a76-81bc-41cdc43376b8",
   "metadata": {},
   "outputs": [
    {
     "name": "stdin",
     "output_type": "stream",
     "text": [
      "Enter your name: krishna\n",
      "Enter your last name: gopal\n"
     ]
    },
    {
     "name": "stdout",
     "output_type": "stream",
     "text": [
      "krishna gopal\n",
      "KRISHNA GOPAL\n",
      "total letter in your name: 13\n"
     ]
    },
    {
     "name": "stdin",
     "output_type": "stream",
     "text": [
      "enter your father's name: harvansh\n"
     ]
    },
    {
     "name": "stdout",
     "output_type": "stream",
     "text": [
      "harvansh\n",
      "HARVANSH\n",
      "HARVANSH\n",
      "total letter in your father name: 9\n"
     ]
    },
    {
     "name": "stdin",
     "output_type": "stream",
     "text": [
      "enter your mother's name: mamta\n"
     ]
    },
    {
     "name": "stdout",
     "output_type": "stream",
     "text": [
      "Mamta\n",
      "MAMTA\n",
      "MAMTA\n",
      "total letter in your mother name: 6\n"
     ]
    }
   ],
   "source": [
    "first_name=input(\"enter your name:\".capitalize())\n",
    "last_name=input(\"enter your last name:\".capitalize())\n",
    "print(first_name+' '+last_name)\n",
    "print(first_name.upper()+' '+last_name.upper())\n",
    "print(\"total letter in your name:\",(first_name+last_name).count(''))\n",
    "father_name=input(\"enter your father's name:\".casefold())\n",
    "print(father_name)\n",
    "print(father_name.upper())\n",
    "print(father_name.swapcase())\n",
    "\n",
    "print(\"total letter in your father name:\",(father_name).count(''))\n",
    "mother_name=input(\"enter your mother's name:\")\n",
    "print(mother_name.title())\n",
    "print(mother_name.upper())\n",
    "print(mother_name.swapcase())\n",
    "print(\"total letter in your mother name:\",(mother_name).count(''))\n"
   ]
  },
  {
   "cell_type": "code",
   "execution_count": 417,
   "id": "ffbf2a14-1e5e-4419-bc18-d0b5686d7c64",
   "metadata": {},
   "outputs": [
    {
     "data": {
      "text/plain": [
       "'pygggtuthon'"
      ]
     },
     "execution_count": 417,
     "metadata": {},
     "output_type": "execute_result"
    }
   ],
   "source": [
    "b='pygggtuthon'\n",
    "b\n"
   ]
  },
  {
   "cell_type": "code",
   "execution_count": 419,
   "id": "d11efe77-de2b-4ff9-b825-78c1945aa6d4",
   "metadata": {},
   "outputs": [
    {
     "data": {
      "text/plain": [
       "'g'"
      ]
     },
     "execution_count": 419,
     "metadata": {},
     "output_type": "execute_result"
    }
   ],
   "source": [
    "b[2]\n",
    "\n"
   ]
  },
  {
   "cell_type": "code",
   "execution_count": 421,
   "id": "48d6b947-98a2-4016-8d26-e02df4ab81d9",
   "metadata": {},
   "outputs": [
    {
     "data": {
      "text/plain": [
       "'g'"
      ]
     },
     "execution_count": 421,
     "metadata": {},
     "output_type": "execute_result"
    }
   ],
   "source": [
    "b[-9]\n",
    "\n"
   ]
  },
  {
   "cell_type": "code",
   "execution_count": 431,
   "id": "4cc14479-c3bc-4188-9cb0-140c2cbc1bce",
   "metadata": {},
   "outputs": [
    {
     "data": {
      "text/plain": [
       "'t'"
      ]
     },
     "execution_count": 431,
     "metadata": {},
     "output_type": "execute_result"
    }
   ],
   "source": [
    "b[7]\n",
    "\n"
   ]
  },
  {
   "cell_type": "code",
   "execution_count": 443,
   "id": "1495e018-6503-4489-b720-432bcabbdc51",
   "metadata": {},
   "outputs": [
    {
     "data": {
      "text/plain": [
       "'gth'"
      ]
     },
     "execution_count": 443,
     "metadata": {},
     "output_type": "execute_result"
    }
   ],
   "source": [
    "b[2:10:3]\n",
    "\n",
    "\n",
    "\n",
    "\n"
   ]
  },
  {
   "cell_type": "code",
   "execution_count": 445,
   "id": "3f427962-368b-44d9-8069-8a8d97230495",
   "metadata": {},
   "outputs": [
    {
     "data": {
      "text/plain": [
       "'hello krishna,how are you everything is going to be good'"
      ]
     },
     "execution_count": 445,
     "metadata": {},
     "output_type": "execute_result"
    }
   ],
   "source": [
    "b='hello krishna,how are you everything is going to be good'\n",
    "b\n"
   ]
  },
  {
   "cell_type": "code",
   "execution_count": 473,
   "id": "254d902e-14cd-4630-b86f-e8775c431644",
   "metadata": {},
   "outputs": [
    {
     "data": {
      "text/plain": [
       "'hello krishna,how are you'"
      ]
     },
     "execution_count": 473,
     "metadata": {},
     "output_type": "execute_result"
    }
   ],
   "source": [
    "b[0:25]\n",
    "\n",
    "\n",
    "\n",
    "\n",
    "\n"
   ]
  },
  {
   "cell_type": "code",
   "execution_count": 477,
   "id": "23f20c7f-a5bb-4d3c-992c-4209d1b28e6e",
   "metadata": {},
   "outputs": [
    {
     "data": {
      "text/plain": [
       "'o'"
      ]
     },
     "execution_count": 477,
     "metadata": {},
     "output_type": "execute_result"
    }
   ],
   "source": [
    "b[4]\n",
    "\n",
    "\n"
   ]
  },
  {
   "cell_type": "code",
   "execution_count": 573,
   "id": "8ab1334a-3ffd-4341-ae54-f55c6c1c1c80",
   "metadata": {},
   "outputs": [],
   "source": [
    "d=\"hello krishna krishna krishna my name is dayanand tiwari and i am from dehradoon\"\n"
   ]
  },
  {
   "cell_type": "code",
   "execution_count": 507,
   "id": "1b32911d-3b28-4542-8613-fc612def72d2",
   "metadata": {},
   "outputs": [
    {
     "data": {
      "text/plain": [
       "'HELLO KRISHNA MY NAME IS DAYANAND TIWARI AND I AM FROM DEHRADOON'"
      ]
     },
     "execution_count": 507,
     "metadata": {},
     "output_type": "execute_result"
    }
   ],
   "source": [
    "d.upper()"
   ]
  },
  {
   "cell_type": "raw",
   "id": "9bc99aa7-f7f6-481b-b306-6a79f5c2de2d",
   "metadata": {},
   "source": [
    "(d.upper()).islower()"
   ]
  },
  {
   "cell_type": "code",
   "execution_count": 551,
   "id": "2045a10c-7576-497f-bfb2-cb108a686164",
   "metadata": {},
   "outputs": [
    {
     "data": {
      "text/plain": [
       "6"
      ]
     },
     "execution_count": 551,
     "metadata": {},
     "output_type": "execute_result"
    }
   ],
   "source": [
    "d.find('krishna')"
   ]
  },
  {
   "cell_type": "code",
   "execution_count": 545,
   "id": "1500e769-796d-4d9e-a24c-aad167da1679",
   "metadata": {},
   "outputs": [
    {
     "data": {
      "text/plain": [
       "5"
      ]
     },
     "execution_count": 545,
     "metadata": {},
     "output_type": "execute_result"
    }
   ],
   "source": [
    "d.count(\"h\")"
   ]
  },
  {
   "cell_type": "code",
   "execution_count": 553,
   "id": "f66af881-f45d-4c5d-aec3-02fa37f46ba2",
   "metadata": {},
   "outputs": [
    {
     "data": {
      "text/plain": [
       "'hello aman aman aman my name is dayanand tiwari and i am from dehradoon'"
      ]
     },
     "execution_count": 553,
     "metadata": {},
     "output_type": "execute_result"
    }
   ],
   "source": [
    "d.replace('krishna','aman')"
   ]
  },
  {
   "cell_type": "code",
   "execution_count": 555,
   "id": "0aac3ea9-4a2b-484c-80cc-30ea6cd3d47a",
   "metadata": {},
   "outputs": [],
   "source": [
    "d=d.replace('krishna','aman')\n"
   ]
  },
  {
   "cell_type": "code",
   "execution_count": 557,
   "id": "a9a0d2df-9658-4f1f-86d7-47f6e9c5a181",
   "metadata": {},
   "outputs": [
    {
     "name": "stdout",
     "output_type": "stream",
     "text": [
      "hello aman aman aman my name is dayanand tiwari and i am from dehradoon\n"
     ]
    }
   ],
   "source": [
    "print(d)\n"
   ]
  },
  {
   "cell_type": "code",
   "execution_count": 577,
   "id": "11d6aaaf-d7a5-46c7-8190-ecfcad1a2b94",
   "metadata": {},
   "outputs": [
    {
     "data": {
      "text/plain": [
       "['hello',\n",
       " 'krishna',\n",
       " 'krishna',\n",
       " 'krishna',\n",
       " 'my',\n",
       " 'name',\n",
       " 'is',\n",
       " 'dayanand',\n",
       " 'tiwari',\n",
       " 'and',\n",
       " 'i',\n",
       " 'am',\n",
       " 'from',\n",
       " 'dehradoon']"
      ]
     },
     "execution_count": 577,
     "metadata": {},
     "output_type": "execute_result"
    }
   ],
   "source": [
    "d.split()"
   ]
  },
  {
   "cell_type": "code",
   "execution_count": null,
   "id": "6c483d47-75ef-4545-98e8-b6ec97650d61",
   "metadata": {},
   "outputs": [],
   "source": []
  }
 ],
 "metadata": {
  "kernelspec": {
   "display_name": "Python [conda env:base] *",
   "language": "python",
   "name": "conda-base-py"
  },
  "language_info": {
   "codemirror_mode": {
    "name": "ipython",
    "version": 3
   },
   "file_extension": ".py",
   "mimetype": "text/x-python",
   "name": "python",
   "nbconvert_exporter": "python",
   "pygments_lexer": "ipython3",
   "version": "3.12.7"
  }
 },
 "nbformat": 4,
 "nbformat_minor": 5
}
