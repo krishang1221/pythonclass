{
 "cells": [
  {
   "cell_type": "markdown",
   "id": "b84f652c-a311-412d-a94a-ea98a1c6b010",
   "metadata": {},
   "source": [
    "print function"
   ]
  },
  {
   "cell_type": "code",
   "execution_count": 4,
   "id": "7ed353e2-a091-4646-98fb-2dd52ebf4e21",
   "metadata": {},
   "outputs": [
    {
     "name": "stdout",
     "output_type": "stream",
     "text": [
      "hello\n"
     ]
    }
   ],
   "source": [
    "print('hello')"
   ]
  },
  {
   "cell_type": "code",
   "execution_count": 6,
   "id": "7ce09714-19ab-4dd7-8863-f44d3a4fe40a",
   "metadata": {},
   "outputs": [
    {
     "name": "stdout",
     "output_type": "stream",
     "text": [
      "10\n"
     ]
    }
   ],
   "source": [
    "print(10)"
   ]
  },
  {
   "cell_type": "code",
   "execution_count": 8,
   "id": "51ab3b6d-9bb9-422c-adea-c3a47a71cbfd",
   "metadata": {},
   "outputs": [
    {
     "name": "stdout",
     "output_type": "stream",
     "text": [
      "Hello World\n"
     ]
    }
   ],
   "source": [
    "print(\"Hello World\")"
   ]
  },
  {
   "cell_type": "code",
   "execution_count": 10,
   "id": "18dad67f-035c-47c9-b63e-9728c6f953a8",
   "metadata": {},
   "outputs": [
    {
     "name": "stdout",
     "output_type": "stream",
     "text": [
      "hello world,my self krishna\n"
     ]
    }
   ],
   "source": [
    "print('hello world,my self krishna')\n"
   ]
  },
  {
   "cell_type": "code",
   "execution_count": 12,
   "id": "8dc77381-09e8-4f02-8cc2-11b20de7be0c",
   "metadata": {},
   "outputs": [
    {
     "name": "stdout",
     "output_type": "stream",
     "text": [
      "hello,today is my first class of python\n"
     ]
    }
   ],
   "source": [
    "print(\"hello,today is my first class of python\")"
   ]
  },
  {
   "cell_type": "code",
   "execution_count": 14,
   "id": "ef3b9faf-e621-4587-a752-82daaed61517",
   "metadata": {},
   "outputs": [
    {
     "name": "stdout",
     "output_type": "stream",
     "text": [
      "9\n"
     ]
    }
   ],
   "source": [
    "print(4+5)"
   ]
  },
  {
   "cell_type": "code",
   "execution_count": 16,
   "id": "5c072b54-80d6-4182-b049-31828c4ad10c",
   "metadata": {},
   "outputs": [
    {
     "data": {
      "text/plain": [
       "9"
      ]
     },
     "execution_count": 16,
     "metadata": {},
     "output_type": "execute_result"
    }
   ],
   "source": [
    "4+5"
   ]
  },
  {
   "cell_type": "code",
   "execution_count": 20,
   "id": "087c60fd-335a-4014-99c4-518b6bf96cf3",
   "metadata": {},
   "outputs": [],
   "source": [
    "a = 2/2"
   ]
  },
  {
   "cell_type": "code",
   "execution_count": 22,
   "id": "2717d9e6-8e33-432d-9c5d-b43d0c03089f",
   "metadata": {},
   "outputs": [
    {
     "data": {
      "text/plain": [
       "1.0"
      ]
     },
     "execution_count": 22,
     "metadata": {},
     "output_type": "execute_result"
    }
   ],
   "source": [
    "a"
   ]
  },
  {
   "cell_type": "code",
   "execution_count": 24,
   "id": "f31518f6-17b2-4e08-bac7-c36231fc1ef9",
   "metadata": {},
   "outputs": [
    {
     "name": "stdout",
     "output_type": "stream",
     "text": [
      "1.0\n"
     ]
    }
   ],
   "source": [
    "print(a)"
   ]
  },
  {
   "cell_type": "code",
   "execution_count": 26,
   "id": "3d1bf32d-0ba4-41f1-a8d8-17c278f464b0",
   "metadata": {},
   "outputs": [
    {
     "name": "stdout",
     "output_type": "stream",
     "text": [
      "India Pakistan Nepal Srilanka\n"
     ]
    }
   ],
   "source": [
    "print(\"India\", \"Pakistan\", \"Nepal\", \"Srilanka\")"
   ]
  },
  {
   "cell_type": "code",
   "execution_count": 28,
   "id": "65a070b8-f0c8-47c2-80a7-33f188655a76",
   "metadata": {},
   "outputs": [
    {
     "name": "stdout",
     "output_type": "stream",
     "text": [
      "India/Pakistan/Nepal/Srilanka\n"
     ]
    }
   ],
   "source": [
    "print(\"India\", \"Pakistan\", \"Nepal\", \"Srilanka\",sep=\"/\")#sep"
   ]
  },
  {
   "cell_type": "code",
   "execution_count": 30,
   "id": "8fa3e2f6-670f-4c9b-b420-76c1f2dc3c18",
   "metadata": {},
   "outputs": [
    {
     "name": "stdout",
     "output_type": "stream",
     "text": [
      "India--Pakistan--Nepal--Srilanka\n"
     ]
    }
   ],
   "source": [
    "print(\"India\", \"Pakistan\", \"Nepal\", \"Srilanka\",sep=\"--\")"
   ]
  },
  {
   "cell_type": "code",
   "execution_count": 32,
   "id": "d848c563-9e98-4a8e-8037-5cf23e102199",
   "metadata": {},
   "outputs": [
    {
     "name": "stdout",
     "output_type": "stream",
     "text": [
      "Hello\n",
      "World\n"
     ]
    }
   ],
   "source": [
    "print(\"Hello\")\n",
    "print(\"World\")"
   ]
  },
  {
   "cell_type": "code",
   "execution_count": 36,
   "id": "accc8b1c-d93c-403c-bc05-2e9ce39d6283",
   "metadata": {},
   "outputs": [
    {
     "name": "stdout",
     "output_type": "stream",
     "text": [
      "Hello World\n"
     ]
    }
   ],
   "source": [
    "print(\"Hello\",end=\" \")\n",
    "print(\"World\")"
   ]
  },
  {
   "cell_type": "code",
   "execution_count": 38,
   "id": "d8aebf37-1f08-401e-95ee-8ef2ed4a41d9",
   "metadata": {},
   "outputs": [
    {
     "name": "stdout",
     "output_type": "stream",
     "text": [
      "hello\n",
      "world\n"
     ]
    }
   ],
   "source": [
    "print(\"hello\")\n",
    "print('world')"
   ]
  },
  {
   "cell_type": "code",
   "execution_count": 42,
   "id": "0a26dc5b-3179-4dd7-93b7-c7af72757785",
   "metadata": {},
   "outputs": [
    {
     "name": "stdout",
     "output_type": "stream",
     "text": [
      "Hello world\n"
     ]
    }
   ],
   "source": [
    "print(\"Hello\"+\" \"\"world\")\n"
   ]
  },
  {
   "cell_type": "raw",
   "id": "7161002f-746f-4b72-ab77-bdd46cc46745",
   "metadata": {},
   "source": []
  },
  {
   "cell_type": "code",
   "execution_count": 44,
   "id": "636b17d0-a0cb-4656-8cb7-c9d17e59d641",
   "metadata": {},
   "outputs": [
    {
     "name": "stdout",
     "output_type": "stream",
     "text": [
      "heykrishan\n"
     ]
    }
   ],
   "source": [
    "print(\"hey\"+\"krishan\")\n"
   ]
  },
  {
   "cell_type": "code",
   "execution_count": 48,
   "id": "0814e4fb-919e-4227-9a1a-19e9e52e1851",
   "metadata": {},
   "outputs": [
    {
     "name": "stdout",
     "output_type": "stream",
     "text": [
      "the unique foundation\n"
     ]
    }
   ],
   "source": [
    "print(\"the unique foundation\")"
   ]
  },
  {
   "cell_type": "code",
   "execution_count": 56,
   "id": "cf11c66a-2bc0-4927-b348-f4f27557759a",
   "metadata": {},
   "outputs": [
    {
     "name": "stdout",
     "output_type": "stream",
     "text": [
      "Tejash is a good guy\n"
     ]
    }
   ],
   "source": [
    "print(\"Tejash is a good guy\")\n"
   ]
  },
  {
   "cell_type": "code",
   "execution_count": 58,
   "id": "f1d0e167-265f-4fc8-b85f-0e1f4e4ceaf6",
   "metadata": {},
   "outputs": [
    {
     "name": "stdout",
     "output_type": "stream",
     "text": [
      "hello*delhi\n"
     ]
    }
   ],
   "source": [
    "print(\"hello*delhi\")"
   ]
  },
  {
   "cell_type": "code",
   "execution_count": 70,
   "id": "97cd6f4a-fd66-4fd4-b25d-9c386da0261f",
   "metadata": {},
   "outputs": [
    {
     "name": "stdout",
     "output_type": "stream",
     "text": [
      "hello dear friends\n",
      "my name is krishan g\n"
     ]
    }
   ],
   "source": [
    "print(\"hello\"+\" dear friends\")\n",
    "print(\"my name is krishan g\")"
   ]
  },
  {
   "cell_type": "code",
   "execution_count": null,
   "id": "4233c342-bbee-4aa0-89c7-fbe61b205744",
   "metadata": {},
   "outputs": [],
   "source": []
  }
 ],
 "metadata": {
  "kernelspec": {
   "display_name": "Python [conda env:base] *",
   "language": "python",
   "name": "conda-base-py"
  },
  "language_info": {
   "codemirror_mode": {
    "name": "ipython",
    "version": 3
   },
   "file_extension": ".py",
   "mimetype": "text/x-python",
   "name": "python",
   "nbconvert_exporter": "python",
   "pygments_lexer": "ipython3",
   "version": "3.12.7"
  }
 },
 "nbformat": 4,
 "nbformat_minor": 5
}
