{
 "cells": [
  {
   "cell_type": "markdown",
   "id": "f2c90b46-9d4e-48c0-a5bf-bccbf73bca8b",
   "metadata": {},
   "source": [
    "variables\n"
   ]
  },
  {
   "cell_type": "code",
   "execution_count": 2,
   "id": "77ba74b7-e949-4b9c-a4df-6d30f1163a11",
   "metadata": {},
   "outputs": [
    {
     "ename": "SyntaxError",
     "evalue": "invalid syntax (1549114973.py, line 1)",
     "output_type": "error",
     "traceback": [
      "\u001b[1;36m  Cell \u001b[1;32mIn[2], line 1\u001b[1;36m\u001b[0m\n\u001b[1;33m    for = 10\u001b[0m\n\u001b[1;37m        ^\u001b[0m\n\u001b[1;31mSyntaxError\u001b[0m\u001b[1;31m:\u001b[0m invalid syntax\n"
     ]
    }
   ],
   "source": [
    "for = 10"
   ]
  },
  {
   "cell_type": "code",
   "execution_count": 4,
   "id": "a73ff17a-6f70-4c87-8515-5aa6bfd5a65a",
   "metadata": {},
   "outputs": [
    {
     "ename": "SyntaxError",
     "evalue": "cannot assign to literal here. Maybe you meant '==' instead of '='? (3277295807.py, line 1)",
     "output_type": "error",
     "traceback": [
      "\u001b[1;36m  Cell \u001b[1;32mIn[4], line 1\u001b[1;36m\u001b[0m\n\u001b[1;33m    2=10\u001b[0m\n\u001b[1;37m    ^\u001b[0m\n\u001b[1;31mSyntaxError\u001b[0m\u001b[1;31m:\u001b[0m cannot assign to literal here. Maybe you meant '==' instead of '='?\n"
     ]
    }
   ],
   "source": [
    "2=10"
   ]
  },
  {
   "cell_type": "code",
   "execution_count": 6,
   "id": "98ad5f81-c37e-491f-b393-a0418f1768d5",
   "metadata": {},
   "outputs": [
    {
     "data": {
      "text/plain": [
       "True"
      ]
     },
     "execution_count": 6,
     "metadata": {},
     "output_type": "execute_result"
    }
   ],
   "source": [
    "10==10"
   ]
  },
  {
   "cell_type": "code",
   "execution_count": 8,
   "id": "e95e11b6-3bb3-47bd-aad2-35b14b4a0bcf",
   "metadata": {},
   "outputs": [
    {
     "ename": "TypeError",
     "evalue": "type() takes 1 or 3 arguments",
     "output_type": "error",
     "traceback": [
      "\u001b[1;31m---------------------------------------------------------------------------\u001b[0m",
      "\u001b[1;31mTypeError\u001b[0m                                 Traceback (most recent call last)",
      "Cell \u001b[1;32mIn[8], line 1\u001b[0m\n\u001b[1;32m----> 1\u001b[0m \u001b[38;5;28mtype\u001b[39m()\n",
      "\u001b[1;31mTypeError\u001b[0m: type() takes 1 or 3 arguments"
     ]
    }
   ],
   "source": [
    "type()\n"
   ]
  },
  {
   "cell_type": "code",
   "execution_count": 10,
   "id": "040a4fe1-6582-4bbf-b5bc-e2b90a71dbb8",
   "metadata": {},
   "outputs": [
    {
     "ename": "TypeError",
     "evalue": "type() takes 1 or 3 arguments",
     "output_type": "error",
     "traceback": [
      "\u001b[1;31m---------------------------------------------------------------------------\u001b[0m",
      "\u001b[1;31mTypeError\u001b[0m                                 Traceback (most recent call last)",
      "Cell \u001b[1;32mIn[10], line 1\u001b[0m\n\u001b[1;32m----> 1\u001b[0m \u001b[38;5;28mtype\u001b[39m()\n",
      "\u001b[1;31mTypeError\u001b[0m: type() takes 1 or 3 arguments"
     ]
    }
   ],
   "source": [
    "type()"
   ]
  },
  {
   "cell_type": "code",
   "execution_count": 12,
   "id": "eb80e0a1-7389-4fba-9899-c434897370ee",
   "metadata": {},
   "outputs": [
    {
     "name": "stdout",
     "output_type": "stream",
     "text": [
      "\f",
      "\n"
     ]
    }
   ],
   "source": [
    "cls"
   ]
  },
  {
   "cell_type": "code",
   "execution_count": 33,
   "id": "1f840769-1d83-4a16-bc8e-d329d687b99c",
   "metadata": {},
   "outputs": [
    {
     "name": "stdout",
     "output_type": "stream",
     "text": [
      "-475.0\n"
     ]
    }
   ],
   "source": [
    "var1=12*10\n",
    "var2=10-5.0\n",
    "a=20\n",
    "b=30\n",
    "var3=var1+var2-a*b\n",
    "print(var3)\n"
   ]
  },
  {
   "cell_type": "code",
   "execution_count": 19,
   "id": "6304c73a-7610-4614-aca9-7f559b688f67",
   "metadata": {},
   "outputs": [
    {
     "name": "stdout",
     "output_type": "stream",
     "text": [
      "-475\n",
      "<class 'type'>\n"
     ]
    }
   ],
   "source": [
    "print(var3)==-475\n",
    "print(type)"
   ]
  },
  {
   "cell_type": "code",
   "execution_count": 21,
   "id": "8feea5b3-3694-464c-bf7e-daee88439e89",
   "metadata": {},
   "outputs": [],
   "source": [
    "a =10"
   ]
  },
  {
   "cell_type": "code",
   "execution_count": 23,
   "id": "e4ed7b29-ae8e-45cd-98b1-c26c2a4849cf",
   "metadata": {},
   "outputs": [
    {
     "data": {
      "text/plain": [
       "int"
      ]
     },
     "execution_count": 23,
     "metadata": {},
     "output_type": "execute_result"
    }
   ],
   "source": [
    "type(a)"
   ]
  },
  {
   "cell_type": "code",
   "execution_count": 25,
   "id": "162a5999-44d7-4196-80d5-57a63426f50e",
   "metadata": {},
   "outputs": [],
   "source": [
    "b = (1,2.5,True,4+2j,'hello')"
   ]
  },
  {
   "cell_type": "code",
   "execution_count": 27,
   "id": "e0ab93f7-cd98-40af-86f7-b9c3f76adff5",
   "metadata": {},
   "outputs": [
    {
     "data": {
      "text/plain": [
       "(1, 2.5, True, (4+2j), 'hello')"
      ]
     },
     "execution_count": 27,
     "metadata": {},
     "output_type": "execute_result"
    }
   ],
   "source": [
    "b"
   ]
  },
  {
   "cell_type": "code",
   "execution_count": 29,
   "id": "5ad7c95d-7cdf-4c52-a8bc-3cbf2f106ef9",
   "metadata": {},
   "outputs": [
    {
     "data": {
      "text/plain": [
       "tuple"
      ]
     },
     "execution_count": 29,
     "metadata": {},
     "output_type": "execute_result"
    }
   ],
   "source": [
    "type(b)"
   ]
  },
  {
   "cell_type": "code",
   "execution_count": 43,
   "id": "3779744a-805d-47ad-8eed-84f1f05013d8",
   "metadata": {},
   "outputs": [],
   "source": [
    "a1=5\n",
    "\n",
    "a=\"nitish\""
   ]
  },
  {
   "cell_type": "code",
   "execution_count": 45,
   "id": "1a77bc40-aaa7-4bf2-9a5f-b641f8d0a0ec",
   "metadata": {},
   "outputs": [
    {
     "name": "stdout",
     "output_type": "stream",
     "text": [
      "nitish\n",
      "5\n"
     ]
    }
   ],
   "source": [
    "print(a)\n",
    "print(a1)\n"
   ]
  },
  {
   "cell_type": "code",
   "execution_count": 47,
   "id": "3dc04d57-9d5c-48c9-9ae1-7b7eb278a89f",
   "metadata": {},
   "outputs": [
    {
     "name": "stdout",
     "output_type": "stream",
     "text": [
      "5\n"
     ]
    }
   ],
   "source": [
    "a1=5\n",
    "print(a1)"
   ]
  },
  {
   "cell_type": "code",
   "execution_count": 49,
   "id": "8b07b8cd-5b01-4c9f-9d9a-9ba8533da1c1",
   "metadata": {},
   "outputs": [
    {
     "name": "stdout",
     "output_type": "stream",
     "text": [
      "2 3 4\n"
     ]
    }
   ],
   "source": [
    "a=2\n",
    "b=3\n",
    "c=4\n",
    "print(a,b,c)"
   ]
  },
  {
   "cell_type": "code",
   "execution_count": 51,
   "id": "f1b3b94c-d5a4-4337-bdf8-d4dec58c886a",
   "metadata": {},
   "outputs": [
    {
     "name": "stdout",
     "output_type": "stream",
     "text": [
      "Requirement already satisfied: pandas in c:\\users\\dell\\anaconda3\\lib\\site-packages (2.2.2)\n",
      "Requirement already satisfied: numpy>=1.26.0 in c:\\users\\dell\\anaconda3\\lib\\site-packages (from pandas) (1.26.4)\n",
      "Requirement already satisfied: python-dateutil>=2.8.2 in c:\\users\\dell\\anaconda3\\lib\\site-packages (from pandas) (2.9.0.post0)\n",
      "Requirement already satisfied: pytz>=2020.1 in c:\\users\\dell\\anaconda3\\lib\\site-packages (from pandas) (2024.1)\n",
      "Requirement already satisfied: tzdata>=2022.7 in c:\\users\\dell\\anaconda3\\lib\\site-packages (from pandas) (2023.3)\n",
      "Requirement already satisfied: six>=1.5 in c:\\users\\dell\\anaconda3\\lib\\site-packages (from python-dateutil>=2.8.2->pandas) (1.16.0)\n"
     ]
    }
   ],
   "source": [
    "!pip install pandas"
   ]
  },
  {
   "cell_type": "code",
   "execution_count": 59,
   "id": "0987b57d-a95e-4539-aa5b-659d0077b5f6",
   "metadata": {},
   "outputs": [],
   "source": [
    "import tensorflow"
   ]
  },
  {
   "cell_type": "code",
   "execution_count": 55,
   "id": "a21c8142-82b5-4a9d-a8f7-5b76a7eb864f",
   "metadata": {},
   "outputs": [
    {
     "name": "stdout",
     "output_type": "stream",
     "text": [
      "Collecting tensorflow\n",
      "  Downloading tensorflow-2.18.0-cp312-cp312-win_amd64.whl.metadata (3.3 kB)\n",
      "Collecting tensorflow-intel==2.18.0 (from tensorflow)\n",
      "  Downloading tensorflow_intel-2.18.0-cp312-cp312-win_amd64.whl.metadata (4.9 kB)\n",
      "Collecting absl-py>=1.0.0 (from tensorflow-intel==2.18.0->tensorflow)\n",
      "  Downloading absl_py-2.1.0-py3-none-any.whl.metadata (2.3 kB)\n",
      "Collecting astunparse>=1.6.0 (from tensorflow-intel==2.18.0->tensorflow)\n",
      "  Downloading astunparse-1.6.3-py2.py3-none-any.whl.metadata (4.4 kB)\n",
      "Collecting flatbuffers>=24.3.25 (from tensorflow-intel==2.18.0->tensorflow)\n",
      "  Downloading flatbuffers-25.2.10-py2.py3-none-any.whl.metadata (875 bytes)\n",
      "Collecting gast!=0.5.0,!=0.5.1,!=0.5.2,>=0.2.1 (from tensorflow-intel==2.18.0->tensorflow)\n",
      "  Downloading gast-0.6.0-py3-none-any.whl.metadata (1.3 kB)\n",
      "Collecting google-pasta>=0.1.1 (from tensorflow-intel==2.18.0->tensorflow)\n",
      "  Downloading google_pasta-0.2.0-py3-none-any.whl.metadata (814 bytes)\n",
      "Collecting libclang>=13.0.0 (from tensorflow-intel==2.18.0->tensorflow)\n",
      "  Downloading libclang-18.1.1-py2.py3-none-win_amd64.whl.metadata (5.3 kB)\n",
      "Collecting opt-einsum>=2.3.2 (from tensorflow-intel==2.18.0->tensorflow)\n",
      "  Downloading opt_einsum-3.4.0-py3-none-any.whl.metadata (6.3 kB)\n",
      "Requirement already satisfied: packaging in c:\\users\\dell\\anaconda3\\lib\\site-packages (from tensorflow-intel==2.18.0->tensorflow) (24.1)\n",
      "Requirement already satisfied: protobuf!=4.21.0,!=4.21.1,!=4.21.2,!=4.21.3,!=4.21.4,!=4.21.5,<6.0.0dev,>=3.20.3 in c:\\users\\dell\\anaconda3\\lib\\site-packages (from tensorflow-intel==2.18.0->tensorflow) (4.25.3)\n",
      "Requirement already satisfied: requests<3,>=2.21.0 in c:\\users\\dell\\anaconda3\\lib\\site-packages (from tensorflow-intel==2.18.0->tensorflow) (2.32.3)\n",
      "Requirement already satisfied: setuptools in c:\\users\\dell\\anaconda3\\lib\\site-packages (from tensorflow-intel==2.18.0->tensorflow) (75.1.0)\n",
      "Requirement already satisfied: six>=1.12.0 in c:\\users\\dell\\anaconda3\\lib\\site-packages (from tensorflow-intel==2.18.0->tensorflow) (1.16.0)\n",
      "Collecting termcolor>=1.1.0 (from tensorflow-intel==2.18.0->tensorflow)\n",
      "  Downloading termcolor-2.5.0-py3-none-any.whl.metadata (6.1 kB)\n",
      "Requirement already satisfied: typing-extensions>=3.6.6 in c:\\users\\dell\\anaconda3\\lib\\site-packages (from tensorflow-intel==2.18.0->tensorflow) (4.11.0)\n",
      "Requirement already satisfied: wrapt>=1.11.0 in c:\\users\\dell\\anaconda3\\lib\\site-packages (from tensorflow-intel==2.18.0->tensorflow) (1.14.1)\n",
      "Collecting grpcio<2.0,>=1.24.3 (from tensorflow-intel==2.18.0->tensorflow)\n",
      "  Downloading grpcio-1.70.0-cp312-cp312-win_amd64.whl.metadata (4.0 kB)\n",
      "Collecting tensorboard<2.19,>=2.18 (from tensorflow-intel==2.18.0->tensorflow)\n",
      "  Downloading tensorboard-2.18.0-py3-none-any.whl.metadata (1.6 kB)\n",
      "Collecting keras>=3.5.0 (from tensorflow-intel==2.18.0->tensorflow)\n",
      "  Downloading keras-3.8.0-py3-none-any.whl.metadata (5.8 kB)\n",
      "Requirement already satisfied: numpy<2.1.0,>=1.26.0 in c:\\users\\dell\\anaconda3\\lib\\site-packages (from tensorflow-intel==2.18.0->tensorflow) (1.26.4)\n",
      "Requirement already satisfied: h5py>=3.11.0 in c:\\users\\dell\\anaconda3\\lib\\site-packages (from tensorflow-intel==2.18.0->tensorflow) (3.11.0)\n",
      "Collecting ml-dtypes<0.5.0,>=0.4.0 (from tensorflow-intel==2.18.0->tensorflow)\n",
      "  Downloading ml_dtypes-0.4.1-cp312-cp312-win_amd64.whl.metadata (20 kB)\n",
      "Requirement already satisfied: wheel<1.0,>=0.23.0 in c:\\users\\dell\\anaconda3\\lib\\site-packages (from astunparse>=1.6.0->tensorflow-intel==2.18.0->tensorflow) (0.44.0)\n",
      "Requirement already satisfied: rich in c:\\users\\dell\\anaconda3\\lib\\site-packages (from keras>=3.5.0->tensorflow-intel==2.18.0->tensorflow) (13.7.1)\n",
      "Collecting namex (from keras>=3.5.0->tensorflow-intel==2.18.0->tensorflow)\n",
      "  Downloading namex-0.0.8-py3-none-any.whl.metadata (246 bytes)\n",
      "Collecting optree (from keras>=3.5.0->tensorflow-intel==2.18.0->tensorflow)\n",
      "  Downloading optree-0.14.0-cp312-cp312-win_amd64.whl.metadata (48 kB)\n",
      "Requirement already satisfied: charset-normalizer<4,>=2 in c:\\users\\dell\\anaconda3\\lib\\site-packages (from requests<3,>=2.21.0->tensorflow-intel==2.18.0->tensorflow) (3.3.2)\n",
      "Requirement already satisfied: idna<4,>=2.5 in c:\\users\\dell\\anaconda3\\lib\\site-packages (from requests<3,>=2.21.0->tensorflow-intel==2.18.0->tensorflow) (3.7)\n",
      "Requirement already satisfied: urllib3<3,>=1.21.1 in c:\\users\\dell\\anaconda3\\lib\\site-packages (from requests<3,>=2.21.0->tensorflow-intel==2.18.0->tensorflow) (2.2.3)\n",
      "Requirement already satisfied: certifi>=2017.4.17 in c:\\users\\dell\\anaconda3\\lib\\site-packages (from requests<3,>=2.21.0->tensorflow-intel==2.18.0->tensorflow) (2025.1.31)\n",
      "Requirement already satisfied: markdown>=2.6.8 in c:\\users\\dell\\anaconda3\\lib\\site-packages (from tensorboard<2.19,>=2.18->tensorflow-intel==2.18.0->tensorflow) (3.4.1)\n",
      "Collecting tensorboard-data-server<0.8.0,>=0.7.0 (from tensorboard<2.19,>=2.18->tensorflow-intel==2.18.0->tensorflow)\n",
      "  Downloading tensorboard_data_server-0.7.2-py3-none-any.whl.metadata (1.1 kB)\n",
      "Requirement already satisfied: werkzeug>=1.0.1 in c:\\users\\dell\\anaconda3\\lib\\site-packages (from tensorboard<2.19,>=2.18->tensorflow-intel==2.18.0->tensorflow) (3.0.3)\n",
      "Requirement already satisfied: MarkupSafe>=2.1.1 in c:\\users\\dell\\anaconda3\\lib\\site-packages (from werkzeug>=1.0.1->tensorboard<2.19,>=2.18->tensorflow-intel==2.18.0->tensorflow) (2.1.3)\n",
      "Requirement already satisfied: markdown-it-py>=2.2.0 in c:\\users\\dell\\anaconda3\\lib\\site-packages (from rich->keras>=3.5.0->tensorflow-intel==2.18.0->tensorflow) (2.2.0)\n",
      "Requirement already satisfied: pygments<3.0.0,>=2.13.0 in c:\\users\\dell\\anaconda3\\lib\\site-packages (from rich->keras>=3.5.0->tensorflow-intel==2.18.0->tensorflow) (2.15.1)\n",
      "Requirement already satisfied: mdurl~=0.1 in c:\\users\\dell\\anaconda3\\lib\\site-packages (from markdown-it-py>=2.2.0->rich->keras>=3.5.0->tensorflow-intel==2.18.0->tensorflow) (0.1.0)\n",
      "Downloading tensorflow-2.18.0-cp312-cp312-win_amd64.whl (7.5 kB)\n",
      "Downloading tensorflow_intel-2.18.0-cp312-cp312-win_amd64.whl (390.3 MB)\n",
      "   ---------------------------------------- 0.0/390.3 MB ? eta -:--:--\n",
      "    --------------------------------------- 5.0/390.3 MB 25.1 MB/s eta 0:00:16\n",
      "    --------------------------------------- 7.6/390.3 MB 18.8 MB/s eta 0:00:21\n",
      "    --------------------------------------- 8.9/390.3 MB 14.6 MB/s eta 0:00:27\n",
      "   - -------------------------------------- 11.0/390.3 MB 13.2 MB/s eta 0:00:29\n",
      "   - -------------------------------------- 13.6/390.3 MB 12.8 MB/s eta 0:00:30\n",
      "   - -------------------------------------- 16.5/390.3 MB 13.2 MB/s eta 0:00:29\n",
      "   - -------------------------------------- 19.4/390.3 MB 13.3 MB/s eta 0:00:28\n",
      "   -- ------------------------------------- 23.3/390.3 MB 13.8 MB/s eta 0:00:27\n",
      "   -- ------------------------------------- 27.5/390.3 MB 14.5 MB/s eta 0:00:25\n",
      "   --- ------------------------------------ 29.9/390.3 MB 14.3 MB/s eta 0:00:26\n",
      "   --- ------------------------------------ 32.5/390.3 MB 14.0 MB/s eta 0:00:26\n",
      "   --- ------------------------------------ 35.9/390.3 MB 14.2 MB/s eta 0:00:26\n",
      "   ---- ----------------------------------- 40.1/390.3 MB 14.6 MB/s eta 0:00:25\n",
      "   ---- ----------------------------------- 43.3/390.3 MB 14.6 MB/s eta 0:00:24\n",
      "   ---- ----------------------------------- 46.1/390.3 MB 14.6 MB/s eta 0:00:24\n",
      "   ----- ---------------------------------- 50.1/390.3 MB 14.8 MB/s eta 0:00:23\n",
      "   ----- ---------------------------------- 51.6/390.3 MB 14.4 MB/s eta 0:00:24\n",
      "   ----- ---------------------------------- 54.0/390.3 MB 14.2 MB/s eta 0:00:24\n",
      "   ----- ---------------------------------- 56.9/390.3 MB 14.2 MB/s eta 0:00:24\n",
      "   ------ --------------------------------- 60.6/390.3 MB 14.3 MB/s eta 0:00:23\n",
      "   ------ --------------------------------- 65.0/390.3 MB 14.6 MB/s eta 0:00:23\n",
      "   ------ --------------------------------- 66.8/390.3 MB 14.4 MB/s eta 0:00:23\n",
      "   ------- -------------------------------- 70.0/390.3 MB 14.4 MB/s eta 0:00:23\n",
      "   ------- -------------------------------- 73.9/390.3 MB 14.5 MB/s eta 0:00:22\n",
      "   ------- -------------------------------- 77.3/390.3 MB 14.7 MB/s eta 0:00:22\n",
      "   -------- ------------------------------- 79.7/390.3 MB 14.5 MB/s eta 0:00:22\n",
      "   -------- ------------------------------- 82.8/390.3 MB 14.5 MB/s eta 0:00:22\n",
      "   -------- ------------------------------- 86.5/390.3 MB 14.6 MB/s eta 0:00:21\n",
      "   --------- ------------------------------ 89.9/390.3 MB 14.7 MB/s eta 0:00:21\n",
      "   --------- ------------------------------ 93.1/390.3 MB 14.7 MB/s eta 0:00:21\n",
      "   --------- ------------------------------ 96.7/390.3 MB 14.8 MB/s eta 0:00:20\n",
      "   ---------- ----------------------------- 99.9/390.3 MB 14.8 MB/s eta 0:00:20\n",
      "   ---------- ---------------------------- 102.8/390.3 MB 14.7 MB/s eta 0:00:20\n",
      "   ---------- ---------------------------- 106.2/390.3 MB 14.8 MB/s eta 0:00:20\n",
      "   ---------- ---------------------------- 109.3/390.3 MB 14.8 MB/s eta 0:00:20\n",
      "   ----------- --------------------------- 111.4/390.3 MB 14.7 MB/s eta 0:00:20\n",
      "   ----------- --------------------------- 114.8/390.3 MB 14.7 MB/s eta 0:00:19\n",
      "   ----------- --------------------------- 118.5/390.3 MB 14.7 MB/s eta 0:00:19\n",
      "   ------------ -------------------------- 122.7/390.3 MB 14.9 MB/s eta 0:00:18\n",
      "   ------------ -------------------------- 124.0/390.3 MB 14.7 MB/s eta 0:00:19\n",
      "   ------------ -------------------------- 126.1/390.3 MB 14.5 MB/s eta 0:00:19\n",
      "   ------------ -------------------------- 128.7/390.3 MB 14.5 MB/s eta 0:00:19\n",
      "   ------------- ------------------------- 131.9/390.3 MB 14.5 MB/s eta 0:00:18\n",
      "   ------------- ------------------------- 136.6/390.3 MB 14.7 MB/s eta 0:00:18\n",
      "   ------------- ------------------------- 139.2/390.3 MB 14.6 MB/s eta 0:00:18\n",
      "   -------------- ------------------------ 141.0/390.3 MB 14.6 MB/s eta 0:00:18\n",
      "   -------------- ------------------------ 143.4/390.3 MB 14.4 MB/s eta 0:00:18\n",
      "   -------------- ------------------------ 146.5/390.3 MB 14.4 MB/s eta 0:00:17\n",
      "   --------------- ----------------------- 150.7/390.3 MB 14.5 MB/s eta 0:00:17\n",
      "   --------------- ----------------------- 154.4/390.3 MB 14.6 MB/s eta 0:00:17\n",
      "   --------------- ----------------------- 156.0/390.3 MB 14.4 MB/s eta 0:00:17\n",
      "   --------------- ----------------------- 158.6/390.3 MB 14.4 MB/s eta 0:00:17\n",
      "   ---------------- ---------------------- 162.0/390.3 MB 14.4 MB/s eta 0:00:16\n",
      "   ---------------- ---------------------- 165.9/390.3 MB 14.5 MB/s eta 0:00:16\n",
      "   ---------------- ---------------------- 169.3/390.3 MB 14.5 MB/s eta 0:00:16\n",
      "   ----------------- --------------------- 172.8/390.3 MB 14.5 MB/s eta 0:00:15\n",
      "   ----------------- --------------------- 175.4/390.3 MB 14.5 MB/s eta 0:00:15\n",
      "   ----------------- --------------------- 179.3/390.3 MB 14.6 MB/s eta 0:00:15\n",
      "   ------------------ -------------------- 182.5/390.3 MB 14.6 MB/s eta 0:00:15\n",
      "   ------------------ -------------------- 184.0/390.3 MB 14.5 MB/s eta 0:00:15\n",
      "   ------------------ -------------------- 186.6/390.3 MB 14.4 MB/s eta 0:00:15\n",
      "   ------------------ -------------------- 189.8/390.3 MB 14.4 MB/s eta 0:00:14\n",
      "   ------------------- ------------------- 193.7/390.3 MB 14.5 MB/s eta 0:00:14\n",
      "   ------------------- ------------------- 197.4/390.3 MB 14.5 MB/s eta 0:00:14\n",
      "   -------------------- ------------------ 200.3/390.3 MB 14.5 MB/s eta 0:00:14\n",
      "   -------------------- ------------------ 203.9/390.3 MB 14.5 MB/s eta 0:00:13\n",
      "   -------------------- ------------------ 205.8/390.3 MB 14.5 MB/s eta 0:00:13\n",
      "   -------------------- ------------------ 208.7/390.3 MB 14.5 MB/s eta 0:00:13\n",
      "   --------------------- ----------------- 212.3/390.3 MB 14.5 MB/s eta 0:00:13\n",
      "   --------------------- ----------------- 216.5/390.3 MB 14.6 MB/s eta 0:00:12\n",
      "   --------------------- ----------------- 219.2/390.3 MB 14.5 MB/s eta 0:00:12\n",
      "   ---------------------- ---------------- 222.6/390.3 MB 14.5 MB/s eta 0:00:12\n",
      "   ---------------------- ---------------- 226.2/390.3 MB 14.6 MB/s eta 0:00:12\n",
      "   ---------------------- ---------------- 229.6/390.3 MB 14.6 MB/s eta 0:00:12\n",
      "   ----------------------- --------------- 232.0/390.3 MB 14.6 MB/s eta 0:00:11\n",
      "   ----------------------- --------------- 235.7/390.3 MB 14.6 MB/s eta 0:00:11\n",
      "   ----------------------- --------------- 239.3/390.3 MB 14.6 MB/s eta 0:00:11\n",
      "   ------------------------ -------------- 242.2/390.3 MB 14.6 MB/s eta 0:00:11\n",
      "   ------------------------ -------------- 245.4/390.3 MB 14.6 MB/s eta 0:00:10\n",
      "   ------------------------ -------------- 249.3/390.3 MB 14.6 MB/s eta 0:00:10\n",
      "   ------------------------- ------------- 251.4/390.3 MB 14.6 MB/s eta 0:00:10\n",
      "   ------------------------- ------------- 254.0/390.3 MB 14.6 MB/s eta 0:00:10\n",
      "   ------------------------- ------------- 257.4/390.3 MB 14.6 MB/s eta 0:00:10\n",
      "   -------------------------- ------------ 261.6/390.3 MB 14.6 MB/s eta 0:00:09\n",
      "   -------------------------- ------------ 264.5/390.3 MB 14.5 MB/s eta 0:00:09\n",
      "   -------------------------- ------------ 267.4/390.3 MB 14.5 MB/s eta 0:00:09\n",
      "   --------------------------- ----------- 270.8/390.3 MB 14.6 MB/s eta 0:00:09\n",
      "   --------------------------- ----------- 275.0/390.3 MB 14.8 MB/s eta 0:00:08\n",
      "   --------------------------- ----------- 277.9/390.3 MB 14.8 MB/s eta 0:00:08\n",
      "   ---------------------------- ---------- 281.5/390.3 MB 14.8 MB/s eta 0:00:08\n",
      "   ---------------------------- ---------- 285.0/390.3 MB 14.8 MB/s eta 0:00:08\n",
      "   ---------------------------- ---------- 288.4/390.3 MB 14.7 MB/s eta 0:00:07\n",
      "   ----------------------------- --------- 291.2/390.3 MB 14.7 MB/s eta 0:00:07\n",
      "   ----------------------------- --------- 294.4/390.3 MB 14.8 MB/s eta 0:00:07\n",
      "   ----------------------------- --------- 298.3/390.3 MB 14.8 MB/s eta 0:00:07\n",
      "   ------------------------------ -------- 301.5/390.3 MB 14.8 MB/s eta 0:00:07\n",
      "   ------------------------------ -------- 303.8/390.3 MB 14.7 MB/s eta 0:00:06\n",
      "   ------------------------------ -------- 307.0/390.3 MB 14.7 MB/s eta 0:00:06\n",
      "   ------------------------------- ------- 310.9/390.3 MB 14.7 MB/s eta 0:00:06\n",
      "   ------------------------------- ------- 314.6/390.3 MB 14.8 MB/s eta 0:00:06\n",
      "   ------------------------------- ------- 317.7/390.3 MB 14.9 MB/s eta 0:00:05\n",
      "   -------------------------------- ------ 320.9/390.3 MB 14.9 MB/s eta 0:00:05\n",
      "   -------------------------------- ------ 324.3/390.3 MB 14.8 MB/s eta 0:00:05\n",
      "   -------------------------------- ------ 327.4/390.3 MB 14.8 MB/s eta 0:00:05\n",
      "   --------------------------------- ----- 330.3/390.3 MB 14.8 MB/s eta 0:00:05\n",
      "   --------------------------------- ----- 333.7/390.3 MB 14.8 MB/s eta 0:00:04\n",
      "   --------------------------------- ----- 337.6/390.3 MB 14.8 MB/s eta 0:00:04\n",
      "   ---------------------------------- ---- 340.3/390.3 MB 14.8 MB/s eta 0:00:04\n",
      "   ---------------------------------- ---- 342.6/390.3 MB 14.8 MB/s eta 0:00:04\n",
      "   ---------------------------------- ---- 346.0/390.3 MB 14.8 MB/s eta 0:00:03\n",
      "   ---------------------------------- ---- 350.0/390.3 MB 14.8 MB/s eta 0:00:03\n",
      "   ----------------------------------- --- 352.3/390.3 MB 14.8 MB/s eta 0:00:03\n",
      "   ----------------------------------- --- 355.5/390.3 MB 14.8 MB/s eta 0:00:03\n",
      "   ----------------------------------- --- 359.1/390.3 MB 14.8 MB/s eta 0:00:03\n",
      "   ------------------------------------ -- 363.1/390.3 MB 14.8 MB/s eta 0:00:02\n",
      "   ------------------------------------ -- 365.2/390.3 MB 14.8 MB/s eta 0:00:02\n",
      "   ------------------------------------ -- 367.8/390.3 MB 14.7 MB/s eta 0:00:02\n",
      "   ------------------------------------- - 371.2/390.3 MB 14.8 MB/s eta 0:00:02\n",
      "   ------------------------------------- - 374.9/390.3 MB 14.8 MB/s eta 0:00:02\n",
      "   ------------------------------------- - 378.3/390.3 MB 14.8 MB/s eta 0:00:01\n",
      "   --------------------------------------  381.4/390.3 MB 14.8 MB/s eta 0:00:01\n",
      "   --------------------------------------  384.3/390.3 MB 14.7 MB/s eta 0:00:01\n",
      "   --------------------------------------  388.5/390.3 MB 15.0 MB/s eta 0:00:01\n",
      "   --------------------------------------  390.1/390.3 MB 15.0 MB/s eta 0:00:01\n",
      "   --------------------------------------  390.1/390.3 MB 15.0 MB/s eta 0:00:01\n",
      "   --------------------------------------  390.1/390.3 MB 15.0 MB/s eta 0:00:01\n",
      "   --------------------------------------  390.1/390.3 MB 15.0 MB/s eta 0:00:01\n",
      "   --------------------------------------  390.1/390.3 MB 15.0 MB/s eta 0:00:01\n",
      "   --------------------------------------  390.1/390.3 MB 15.0 MB/s eta 0:00:01\n",
      "   --------------------------------------  390.1/390.3 MB 15.0 MB/s eta 0:00:01\n",
      "   --------------------------------------  390.1/390.3 MB 15.0 MB/s eta 0:00:01\n",
      "   --------------------------------------- 390.3/390.3 MB 13.7 MB/s eta 0:00:00\n",
      "Downloading absl_py-2.1.0-py3-none-any.whl (133 kB)\n",
      "Downloading astunparse-1.6.3-py2.py3-none-any.whl (12 kB)\n",
      "Downloading flatbuffers-25.2.10-py2.py3-none-any.whl (30 kB)\n",
      "Downloading gast-0.6.0-py3-none-any.whl (21 kB)\n",
      "Downloading google_pasta-0.2.0-py3-none-any.whl (57 kB)\n",
      "Downloading grpcio-1.70.0-cp312-cp312-win_amd64.whl (4.3 MB)\n",
      "   ---------------------------------------- 0.0/4.3 MB ? eta -:--:--\n",
      "   -------------------------- ------------- 2.9/4.3 MB 14.0 MB/s eta 0:00:01\n",
      "   ---------------------------------------- 4.3/4.3 MB 13.6 MB/s eta 0:00:00\n",
      "Downloading keras-3.8.0-py3-none-any.whl (1.3 MB)\n",
      "   ---------------------------------------- 0.0/1.3 MB ? eta -:--:--\n",
      "   ---------------------------------------- 1.3/1.3 MB 13.3 MB/s eta 0:00:00\n",
      "Downloading libclang-18.1.1-py2.py3-none-win_amd64.whl (26.4 MB)\n",
      "   ---------------------------------------- 0.0/26.4 MB ? eta -:--:--\n",
      "   ----- ---------------------------------- 3.9/26.4 MB 19.5 MB/s eta 0:00:02\n",
      "   ----------- ---------------------------- 7.9/26.4 MB 19.4 MB/s eta 0:00:01\n",
      "   -------------- ------------------------- 9.7/26.4 MB 15.5 MB/s eta 0:00:02\n",
      "   ------------------ --------------------- 12.1/26.4 MB 14.2 MB/s eta 0:00:02\n",
      "   ----------------------- ---------------- 15.2/26.4 MB 14.3 MB/s eta 0:00:01\n",
      "   ---------------------------- ----------- 19.1/26.4 MB 14.9 MB/s eta 0:00:01\n",
      "   ---------------------------------- ----- 23.1/26.4 MB 15.5 MB/s eta 0:00:01\n",
      "   -------------------------------------- - 25.4/26.4 MB 14.9 MB/s eta 0:00:01\n",
      "   ---------------------------------------- 26.4/26.4 MB 13.7 MB/s eta 0:00:00\n",
      "Downloading ml_dtypes-0.4.1-cp312-cp312-win_amd64.whl (127 kB)\n",
      "Downloading opt_einsum-3.4.0-py3-none-any.whl (71 kB)\n",
      "Downloading tensorboard-2.18.0-py3-none-any.whl (5.5 MB)\n",
      "   ---------------------------------------- 0.0/5.5 MB ? eta -:--:--\n",
      "   ---------------------- ----------------- 3.1/5.5 MB 15.3 MB/s eta 0:00:01\n",
      "   ---------------------------------------- 5.5/5.5 MB 14.6 MB/s eta 0:00:00\n",
      "Downloading termcolor-2.5.0-py3-none-any.whl (7.8 kB)\n",
      "Downloading tensorboard_data_server-0.7.2-py3-none-any.whl (2.4 kB)\n",
      "Downloading namex-0.0.8-py3-none-any.whl (5.8 kB)\n",
      "Downloading optree-0.14.0-cp312-cp312-win_amd64.whl (299 kB)\n",
      "Installing collected packages: namex, libclang, flatbuffers, termcolor, tensorboard-data-server, optree, opt-einsum, ml-dtypes, grpcio, google-pasta, gast, astunparse, absl-py, tensorboard, keras, tensorflow-intel, tensorflow\n",
      "Successfully installed absl-py-2.1.0 astunparse-1.6.3 flatbuffers-25.2.10 gast-0.6.0 google-pasta-0.2.0 grpcio-1.70.0 keras-3.8.0 libclang-18.1.1 ml-dtypes-0.4.1 namex-0.0.8 opt-einsum-3.4.0 optree-0.14.0 tensorboard-2.18.0 tensorboard-data-server-0.7.2 tensorflow-2.18.0 tensorflow-intel-2.18.0 termcolor-2.5.0\n"
     ]
    }
   ],
   "source": [
    "!pip install tensorflow"
   ]
  },
  {
   "cell_type": "code",
   "execution_count": 65,
   "id": "89aa1180-99ff-43be-93b8-c6c4e02bf678",
   "metadata": {},
   "outputs": [
    {
     "name": "stdout",
     "output_type": "stream",
     "text": [
      "33\n"
     ]
    }
   ],
   "source": [
    "a=20\n",
    "c=10+a+b\n",
    "\n",
    "\n",
    "print(c)"
   ]
  },
  {
   "cell_type": "code",
   "execution_count": 77,
   "id": "494acaee-bb7d-48c0-9350-7e66b72218dd",
   "metadata": {},
   "outputs": [],
   "source": [
    "a!=10\n",
    "\n",
    "c*=20\n"
   ]
  },
  {
   "cell_type": "code",
   "execution_count": 103,
   "id": "7278f9cd-9d72-41dc-bff8-eaccf14b97f9",
   "metadata": {},
   "outputs": [],
   "source": [
    "a=12000\n",
    "b=20000\n",
    "c=30000\n"
   ]
  },
  {
   "cell_type": "code",
   "execution_count": 95,
   "id": "d998bada-bfe4-41f4-b7fe-bc15d7e85a29",
   "metadata": {},
   "outputs": [
    {
     "name": "stdout",
     "output_type": "stream",
     "text": [
      "/n------/n 12000\n"
     ]
    }
   ],
   "source": [
    "print(\"/n------/n\",a)"
   ]
  },
  {
   "cell_type": "code",
   "execution_count": 97,
   "id": "500420eb-98f8-459d-93d6-91609ac41ab0",
   "metadata": {},
   "outputs": [
    {
     "ename": "SyntaxError",
     "evalue": "invalid syntax (4179287849.py, line 1)",
     "output_type": "error",
     "traceback": [
      "\u001b[1;36m  Cell \u001b[1;32mIn[97], line 1\u001b[1;36m\u001b[0m\n\u001b[1;33m    print(\"Hello,\\nWorld!\")print(\"Hello,\\nWorld!\")print(\"Hello,\\nWorld!\")print(\"Hello,\\nWorld!\")print(\"Hello,\\nWorld!\")\u001b[0m\n\u001b[1;37m                           ^\u001b[0m\n\u001b[1;31mSyntaxError\u001b[0m\u001b[1;31m:\u001b[0m invalid syntax\n"
     ]
    }
   ],
   "source": [
    "print(\"Hello,\\nWorld!\")print(\"Hello,\\nWorld!\")print(\"Hello,\\nWorld!\")print(\"Hello,\\nWorld!\")print(\"Hello,\\nWorld!\")"
   ]
  },
  {
   "cell_type": "code",
   "execution_count": 99,
   "id": "535ad5c4-f48c-48b8-b6fd-6d806e38b020",
   "metadata": {},
   "outputs": [
    {
     "name": "stdout",
     "output_type": "stream",
     "text": [
      "Hello,\n",
      "World!\n"
     ]
    }
   ],
   "source": [
    "print(\"Hello,\\nWorld!\")"
   ]
  },
  {
   "cell_type": "code",
   "execution_count": 105,
   "id": "4f7f2ba6-7b04-43ab-b59a-f305956c9ee5",
   "metadata": {},
   "outputs": [
    {
     "name": "stdout",
     "output_type": "stream",
     "text": [
      "heyy\n",
      "world\n"
     ]
    }
   ],
   "source": [
    "print('heyy\\nworld')"
   ]
  },
  {
   "cell_type": "code",
   "execution_count": 107,
   "id": "d4525f43-9ced-453e-baa7-045216c8869e",
   "metadata": {},
   "outputs": [
    {
     "ename": "SyntaxError",
     "evalue": "Missing parentheses in call to 'print'. Did you mean print(...)? (2947294964.py, line 1)",
     "output_type": "error",
     "traceback": [
      "\u001b[1;36m  Cell \u001b[1;32mIn[107], line 1\u001b[1;36m\u001b[0m\n\u001b[1;33m    print a\u001b[0m\n\u001b[1;37m    ^\u001b[0m\n\u001b[1;31mSyntaxError\u001b[0m\u001b[1;31m:\u001b[0m Missing parentheses in call to 'print'. Did you mean print(...)?\n"
     ]
    }
   ],
   "source": [
    "print a"
   ]
  },
  {
   "cell_type": "code",
   "execution_count": 109,
   "id": "cb51d49e-90f7-48c8-b2a2-0fc4dce98925",
   "metadata": {},
   "outputs": [
    {
     "name": "stdout",
     "output_type": "stream",
     "text": [
      "12000\n"
     ]
    }
   ],
   "source": [
    "print(a)"
   ]
  },
  {
   "cell_type": "code",
   "execution_count": 111,
   "id": "8ca1d09f-2751-42fa-94ca-55fb5c50b622",
   "metadata": {},
   "outputs": [
    {
     "ename": "SyntaxError",
     "evalue": "Missing parentheses in call to 'print'. Did you mean print(...)? (1484682791.py, line 1)",
     "output_type": "error",
     "traceback": [
      "\u001b[1;36m  Cell \u001b[1;32mIn[111], line 1\u001b[1;36m\u001b[0m\n\u001b[1;33m    print a\u001b[0m\n\u001b[1;37m    ^\u001b[0m\n\u001b[1;31mSyntaxError\u001b[0m\u001b[1;31m:\u001b[0m Missing parentheses in call to 'print'. Did you mean print(...)?\n"
     ]
    }
   ],
   "source": [
    "print a\n"
   ]
  },
  {
   "cell_type": "code",
   "execution_count": 113,
   "id": "c73d6a90-95e1-4a4b-a961-1aefe9c06b60",
   "metadata": {},
   "outputs": [
    {
     "name": "stdout",
     "output_type": "stream",
     "text": [
      "5\n",
      "6\n",
      "7\n"
     ]
    }
   ],
   "source": [
    "a, b, c = 5, 6, 7\n",
    "\n",
    "print(a)\n",
    "print(b)\n",
    "print(c)"
   ]
  },
  {
   "cell_type": "code",
   "execution_count": 129,
   "id": "bdf4110f-19c0-4458-97b3-fe4d295e136f",
   "metadata": {},
   "outputs": [
    {
     "ename": "SyntaxError",
     "evalue": "unexpected character after line continuation character (524180775.py, line 2)",
     "output_type": "error",
     "traceback": [
      "\u001b[1;36m  Cell \u001b[1;32mIn[129], line 2\u001b[1;36m\u001b[0m\n\u001b[1;33m    b,\\\u001b[0m\n\u001b[1;37m        \n^\u001b[0m\n\u001b[1;31mSyntaxError\u001b[0m\u001b[1;31m:\u001b[0m unexpected character after line continuation character\n"
     ]
    }
   ],
   "source": [
    "print(a,\\\n",
    "      b,\\ \n",
    "      c)"
   ]
  },
  {
   "cell_type": "code",
   "execution_count": 125,
   "id": "3e13bbe8-f5cd-4da4-a653-e77750dd1f1a",
   "metadata": {},
   "outputs": [
    {
     "name": "stdout",
     "output_type": "stream",
     "text": [
      "5 6 7\n"
     ]
    }
   ],
   "source": [
    "print(a,\\\n",
    " b,\\\n",
    " c)  # Spaces after the backslashes!"
   ]
  },
  {
   "cell_type": "code",
   "execution_count": 131,
   "id": "8d5ef5de-124d-4557-bdac-655b04383dfc",
   "metadata": {},
   "outputs": [
    {
     "name": "stdout",
     "output_type": "stream",
     "text": [
      "{2, 3}\n"
     ]
    }
   ],
   "source": [
    "a={2,2,3,3}\n",
    "print(a)\n"
   ]
  },
  {
   "cell_type": "code",
   "execution_count": 133,
   "id": "ecbce3c4-48e4-4d98-80c6-fe7416685bc2",
   "metadata": {},
   "outputs": [
    {
     "data": {
      "text/plain": [
       "set"
      ]
     },
     "execution_count": 133,
     "metadata": {},
     "output_type": "execute_result"
    }
   ],
   "source": [
    "type(a)\n"
   ]
  },
  {
   "cell_type": "code",
   "execution_count": 141,
   "id": "80d5fa53-099b-4531-a7d7-af94a51b224d",
   "metadata": {},
   "outputs": [
    {
     "name": "stdout",
     "output_type": "stream",
     "text": [
      "[3, 4]\n"
     ]
    }
   ],
   "source": [
    "a=[3,4]\n",
    "\n",
    "print(a)"
   ]
  },
  {
   "cell_type": "code",
   "execution_count": 143,
   "id": "273cee95-67db-4424-bcb9-d9d60b9224c1",
   "metadata": {},
   "outputs": [
    {
     "data": {
      "text/plain": [
       "list"
      ]
     },
     "execution_count": 143,
     "metadata": {},
     "output_type": "execute_result"
    }
   ],
   "source": [
    "type(a)"
   ]
  },
  {
   "cell_type": "code",
   "execution_count": 145,
   "id": "5cb7b6aa-d89f-4c38-bb02-c838bbe13da6",
   "metadata": {},
   "outputs": [],
   "source": [
    "a=(34,\"string\",{23},[3])"
   ]
  },
  {
   "cell_type": "code",
   "execution_count": null,
   "id": "f9cfadfb-239c-4bf8-9635-11629d0d3ab2",
   "metadata": {},
   "outputs": [],
   "source": []
  },
  {
   "cell_type": "code",
   "execution_count": 148,
   "id": "77b38488-8031-4639-bbf6-7bdd74eb67b7",
   "metadata": {},
   "outputs": [
    {
     "name": "stdout",
     "output_type": "stream",
     "text": [
      "(34, 'string', {23}, [3])\n"
     ]
    }
   ],
   "source": [
    "print(a)\n"
   ]
  },
  {
   "cell_type": "code",
   "execution_count": 150,
   "id": "090f740d-a89e-4b0b-9759-516fa286c39b",
   "metadata": {},
   "outputs": [
    {
     "data": {
      "text/plain": [
       "tuple"
      ]
     },
     "execution_count": 150,
     "metadata": {},
     "output_type": "execute_result"
    }
   ],
   "source": [
    "type(a)\n"
   ]
  },
  {
   "cell_type": "code",
   "execution_count": 152,
   "id": "68dead50-100f-4f6e-bce7-b9be492c8bd2",
   "metadata": {},
   "outputs": [
    {
     "data": {
      "text/plain": [
       "'string'"
      ]
     },
     "execution_count": 152,
     "metadata": {},
     "output_type": "execute_result"
    }
   ],
   "source": [
    "a[1]"
   ]
  },
  {
   "cell_type": "code",
   "execution_count": 158,
   "id": "2285ca82-6f5a-4ae7-9338-ad628af1da83",
   "metadata": {},
   "outputs": [],
   "source": [
    "a = [1,2,3,4]"
   ]
  },
  {
   "cell_type": "code",
   "execution_count": 160,
   "id": "a29df740-8611-4c73-8c1e-4b9177d39036",
   "metadata": {},
   "outputs": [
    {
     "data": {
      "text/plain": [
       "[1, 2, 3, 4]"
      ]
     },
     "execution_count": 160,
     "metadata": {},
     "output_type": "execute_result"
    }
   ],
   "source": [
    "a"
   ]
  },
  {
   "cell_type": "code",
   "execution_count": 162,
   "id": "2777e1b7-ded5-4318-a754-46e6513b848b",
   "metadata": {},
   "outputs": [
    {
     "data": {
      "text/plain": [
       "list"
      ]
     },
     "execution_count": 162,
     "metadata": {},
     "output_type": "execute_result"
    }
   ],
   "source": [
    "type(a)"
   ]
  },
  {
   "cell_type": "code",
   "execution_count": 166,
   "id": "7ce76d5c-ab27-4351-b569-e732823d8f5a",
   "metadata": {},
   "outputs": [
    {
     "data": {
      "text/plain": [
       "4"
      ]
     },
     "execution_count": 166,
     "metadata": {},
     "output_type": "execute_result"
    }
   ],
   "source": [
    "a[3]"
   ]
  },
  {
   "cell_type": "code",
   "execution_count": 168,
   "id": "dca2f7cc-dbed-4fb8-a356-b66a3edbf174",
   "metadata": {},
   "outputs": [
    {
     "data": {
      "text/plain": [
       "2040363282112"
      ]
     },
     "execution_count": 168,
     "metadata": {},
     "output_type": "execute_result"
    }
   ],
   "source": [
    "id(a)"
   ]
  },
  {
   "cell_type": "code",
   "execution_count": null,
   "id": "b4824ae4-4acb-4f5a-ba72-5b657f78ada0",
   "metadata": {},
   "outputs": [],
   "source": []
  }
 ],
 "metadata": {
  "kernelspec": {
   "display_name": "Python [conda env:base] *",
   "language": "python",
   "name": "conda-base-py"
  },
  "language_info": {
   "codemirror_mode": {
    "name": "ipython",
    "version": 3
   },
   "file_extension": ".py",
   "mimetype": "text/x-python",
   "name": "python",
   "nbconvert_exporter": "python",
   "pygments_lexer": "ipython3",
   "version": "3.12.7"
  }
 },
 "nbformat": 4,
 "nbformat_minor": 5
}
